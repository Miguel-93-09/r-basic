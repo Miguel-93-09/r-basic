{
 "cells": [
  {
   "cell_type": "markdown",
   "id": "763bfd15-d0dc-452a-8030-4b7f2cc69305",
   "metadata": {},
   "source": [
    "# funciones universales (ufunc)\n",
    "\n",
    "funciones que se realizan sobre todos y cada elemento de un array sin usar un bucle for\n",
    "\n",
    "## funciones unarias\n",
    "elemento a elemento : sqrt, sin, cos , **2, + , -\n",
    "\n",
    "se pueden crear muchas\n",
    "\n"
   ]
  },
  {
   "cell_type": "code",
   "execution_count": 4,
   "id": "28e4ca10-c370-4375-a8ee-7aff253763ec",
   "metadata": {},
   "outputs": [],
   "source": [
    "import numpy as np\n",
    "\n",
    "x = np.arange(10)"
   ]
  },
  {
   "cell_type": "code",
   "execution_count": 3,
   "id": "7cd60ff2-ddee-40de-933a-3e14c000c1d0",
   "metadata": {},
   "outputs": [
    {
     "name": "stdout",
     "output_type": "stream",
     "text": [
      "[ 3  4  5  6  7  8  9 10 11 12]\n"
     ]
    },
    {
     "data": {
      "text/plain": [
       "array([-3, -2, -1,  0,  1,  2,  3,  4,  5,  6])"
      ]
     },
     "execution_count": 3,
     "metadata": {},
     "output_type": "execute_result"
    }
   ],
   "source": [
    "print(x+3)\n",
    "x-3"
   ]
  },
  {
   "cell_type": "code",
   "execution_count": 4,
   "id": "fa84f252-d9a1-408b-9685-2e452f71802d",
   "metadata": {},
   "outputs": [
    {
     "data": {
      "text/plain": [
       "array([0.        , 0.33333333, 0.66666667, 1.        , 1.33333333,\n",
       "       1.66666667, 2.        , 2.33333333, 2.66666667, 3.        ])"
      ]
     },
     "execution_count": 4,
     "metadata": {},
     "output_type": "execute_result"
    }
   ],
   "source": [
    "x/3"
   ]
  },
  {
   "cell_type": "code",
   "execution_count": 5,
   "id": "1172f3b0-8f8a-4590-906e-b76511dc3e79",
   "metadata": {},
   "outputs": [],
   "source": [
    "alpha = np.linspace(0, 2*np.pi, 4)"
   ]
  },
  {
   "cell_type": "code",
   "execution_count": 6,
   "id": "9f53aba7-c594-433a-a3af-7975f3593aab",
   "metadata": {},
   "outputs": [
    {
     "data": {
      "text/plain": [
       "array([ 0.00000000e+00,  8.66025404e-01, -8.66025404e-01, -2.44929360e-16])"
      ]
     },
     "execution_count": 6,
     "metadata": {},
     "output_type": "execute_result"
    }
   ],
   "source": [
    "np.sin(alpha)"
   ]
  },
  {
   "cell_type": "code",
   "execution_count": 7,
   "id": "ce638eef-4a2e-4aec-8490-a10085df0630",
   "metadata": {},
   "outputs": [
    {
     "data": {
      "text/plain": [
       "array([ 0.00000000e+00, -1.73205081e+00,  1.73205081e+00, -2.44929360e-16])"
      ]
     },
     "execution_count": 7,
     "metadata": {},
     "output_type": "execute_result"
    }
   ],
   "source": [
    "np.tan(alpha)"
   ]
  },
  {
   "cell_type": "code",
   "execution_count": 8,
   "id": "9cc1274d-dce8-4634-be82-809ddac6204e",
   "metadata": {},
   "outputs": [
    {
     "data": {
      "text/plain": [
       "array([1.00000000e+00, 2.71828183e+00, 7.38905610e+00, 2.00855369e+01,\n",
       "       5.45981500e+01, 1.48413159e+02, 4.03428793e+02, 1.09663316e+03,\n",
       "       2.98095799e+03, 8.10308393e+03])"
      ]
     },
     "execution_count": 8,
     "metadata": {},
     "output_type": "execute_result"
    }
   ],
   "source": [
    "#funciones exponenciales\n",
    "np.exp(x)"
   ]
  },
  {
   "cell_type": "code",
   "execution_count": 9,
   "id": "be267cf7-985c-4ae7-9a88-1437975d7535",
   "metadata": {},
   "outputs": [
    {
     "data": {
      "text/plain": [
       "array([  1.,   2.,   4.,   8.,  16.,  32.,  64., 128., 256., 512.])"
      ]
     },
     "execution_count": 9,
     "metadata": {},
     "output_type": "execute_result"
    }
   ],
   "source": [
    "np.exp2(x)"
   ]
  },
  {
   "cell_type": "code",
   "execution_count": 10,
   "id": "42efb170-23b7-4414-ace6-420d542c545e",
   "metadata": {},
   "outputs": [
    {
     "data": {
      "text/plain": [
       "array([    1,     3,     9,    27,    81,   243,   729,  2187,  6561,\n",
       "       19683])"
      ]
     },
     "execution_count": 10,
     "metadata": {},
     "output_type": "execute_result"
    }
   ],
   "source": [
    "np.power(3,x)  #equiv a 3^x"
   ]
  },
  {
   "cell_type": "code",
   "execution_count": 11,
   "id": "59e215a6-f3a2-4911-95de-bfbaf48ddb4c",
   "metadata": {},
   "outputs": [
    {
     "data": {
      "text/plain": [
       "array([  0,   1,   8,  27,  64, 125, 216, 343, 512, 729])"
      ]
     },
     "execution_count": 11,
     "metadata": {},
     "output_type": "execute_result"
    }
   ],
   "source": [
    "np.power(x,3)  #equiv a x^3"
   ]
  },
  {
   "cell_type": "code",
   "execution_count": 12,
   "id": "c9e13a38-e306-42fb-a232-31d762dd2b96",
   "metadata": {},
   "outputs": [
    {
     "name": "stderr",
     "output_type": "stream",
     "text": [
      "/tmp/ipykernel_28131/2175199034.py:1: RuntimeWarning: divide by zero encountered in log\n",
      "  np.log(alpha)  # error porque hay numero 0 en alpha\n"
     ]
    },
    {
     "data": {
      "text/plain": [
       "array([      -inf, 0.73926478, 1.43241196, 1.83787707])"
      ]
     },
     "execution_count": 12,
     "metadata": {},
     "output_type": "execute_result"
    }
   ],
   "source": [
    "np.log(alpha)  # error porque hay numero 0 en alpha"
   ]
  },
  {
   "cell_type": "code",
   "execution_count": 13,
   "id": "4fbdaf17-588e-4e9a-8e40-d2736a06d867",
   "metadata": {},
   "outputs": [
    {
     "name": "stderr",
     "output_type": "stream",
     "text": [
      "/tmp/ipykernel_28131/4206049137.py:1: RuntimeWarning: divide by zero encountered in log10\n",
      "  np.log10(alpha)\n"
     ]
    },
    {
     "data": {
      "text/plain": [
       "array([      -inf, 0.32105861, 0.62208861, 0.79817987])"
      ]
     },
     "execution_count": 13,
     "metadata": {},
     "output_type": "execute_result"
    }
   ],
   "source": [
    "np.log10(alpha)"
   ]
  },
  {
   "cell_type": "markdown",
   "id": "76c12da7-f7bf-4f31-a9c8-319ddc015cea",
   "metadata": {},
   "source": [
    "## funciones binarias\n",
    "Binarias: se ralizan como en matemáticas "
   ]
  },
  {
   "cell_type": "code",
   "execution_count": 15,
   "id": "fe0532a4-eaed-4129-b4b6-42c4961ae0e9",
   "metadata": {},
   "outputs": [
    {
     "data": {
      "text/plain": [
       "12.566370614359172"
      ]
     },
     "execution_count": 15,
     "metadata": {},
     "output_type": "execute_result"
    }
   ],
   "source": [
    "#valores desconocidos\n",
    "np.nansum(alpha)"
   ]
  },
  {
   "cell_type": "code",
   "execution_count": 16,
   "id": "67508129-9b26-479b-9cf0-cac3005422ac",
   "metadata": {},
   "outputs": [
    {
     "data": {
      "text/plain": [
       "12.566370614359172"
      ]
     },
     "execution_count": 16,
     "metadata": {},
     "output_type": "execute_result"
    }
   ],
   "source": [
    "#version si nan\n",
    "np.sum(alpha)"
   ]
  },
  {
   "cell_type": "code",
   "execution_count": 17,
   "id": "bf3ce1bf-04eb-4f21-ac03-8ae32aaca540",
   "metadata": {},
   "outputs": [
    {
     "data": {
      "text/plain": [
       "6.283185307179586"
      ]
     },
     "execution_count": 17,
     "metadata": {},
     "output_type": "execute_result"
    }
   ],
   "source": [
    "np.max(alpha)"
   ]
  },
  {
   "cell_type": "code",
   "execution_count": 18,
   "id": "8fd7386e-9a47-4ccf-b63a-432f7a6a5b9f",
   "metadata": {},
   "outputs": [
    {
     "data": {
      "text/plain": [
       "5.483113556160754"
      ]
     },
     "execution_count": 18,
     "metadata": {},
     "output_type": "execute_result"
    }
   ],
   "source": [
    "np.var(alpha)"
   ]
  },
  {
   "cell_type": "code",
   "execution_count": 19,
   "id": "fbc92096-a492-41c6-bf8c-79e4c1b6c2b9",
   "metadata": {},
   "outputs": [
    {
     "data": {
      "text/plain": [
       "3.141592653589793"
      ]
     },
     "execution_count": 19,
     "metadata": {},
     "output_type": "execute_result"
    }
   ],
   "source": [
    "np.median(alpha)"
   ]
  },
  {
   "cell_type": "code",
   "execution_count": 20,
   "id": "96367499-3846-4c4e-8b27-8caefab67c42",
   "metadata": {},
   "outputs": [
    {
     "data": {
      "text/plain": [
       "2.3416049103469088"
      ]
     },
     "execution_count": 20,
     "metadata": {},
     "output_type": "execute_result"
    }
   ],
   "source": [
    "np.std(alpha)"
   ]
  },
  {
   "cell_type": "code",
   "execution_count": 21,
   "id": "0b899cbd-204f-45d0-b0c7-e19d5a06fe2e",
   "metadata": {},
   "outputs": [
    {
     "data": {
      "text/plain": [
       "0"
      ]
     },
     "execution_count": 21,
     "metadata": {},
     "output_type": "execute_result"
    }
   ],
   "source": [
    "np.argmin(x)  #posicion del numero mas pequeño"
   ]
  },
  {
   "cell_type": "code",
   "execution_count": 22,
   "id": "6abf5db2-1ee6-4590-8ab4-51a782e58215",
   "metadata": {},
   "outputs": [
    {
     "data": {
      "text/plain": [
       "9"
      ]
     },
     "execution_count": 22,
     "metadata": {},
     "output_type": "execute_result"
    }
   ],
   "source": [
    "np.argmax(x)  #posicion del numero mas grande"
   ]
  },
  {
   "cell_type": "markdown",
   "id": "936c35b6-35cf-4065-b12d-c085ee384bc9",
   "metadata": {},
   "source": [
    "## con booleanos"
   ]
  },
  {
   "cell_type": "code",
   "execution_count": 24,
   "id": "3e929b75-dba2-4a0b-b219-875c1fda9a93",
   "metadata": {},
   "outputs": [],
   "source": [
    "y=np.array([True,False, False, True])"
   ]
  },
  {
   "cell_type": "code",
   "execution_count": 25,
   "id": "ff43701e-963f-402c-a154-b996908883cd",
   "metadata": {},
   "outputs": [
    {
     "data": {
      "text/plain": [
       "True"
      ]
     },
     "execution_count": 25,
     "metadata": {},
     "output_type": "execute_result"
    }
   ],
   "source": [
    "#al algun true?\n",
    "np.any(y)"
   ]
  },
  {
   "cell_type": "code",
   "execution_count": 26,
   "id": "26f5fe39-40f4-4eb6-be64-b1470ee62966",
   "metadata": {},
   "outputs": [
    {
     "data": {
      "text/plain": [
       "False"
      ]
     },
     "execution_count": 26,
     "metadata": {},
     "output_type": "execute_result"
    }
   ],
   "source": [
    "#todos?\n",
    "np.all(y)"
   ]
  },
  {
   "cell_type": "markdown",
   "id": "30b00cbf-7175-4cff-95c9-c1d075bae064",
   "metadata": {},
   "source": [
    "# funciones por dimensiones\n",
    "\n"
   ]
  },
  {
   "cell_type": "code",
   "execution_count": 6,
   "id": "7cbb43eb-a413-4f90-8550-94161fa39868",
   "metadata": {},
   "outputs": [
    {
     "data": {
      "text/plain": [
       "array([[0.16501311, 0.48360088, 0.68359307, 0.82032078, 0.31433263],\n",
       "       [0.61463879, 0.60995105, 0.67882129, 0.10089668, 0.76494139],\n",
       "       [0.28508584, 0.94911706, 0.21815399, 0.96713372, 0.06574138]])"
      ]
     },
     "execution_count": 6,
     "metadata": {},
     "output_type": "execute_result"
    }
   ],
   "source": [
    "# generar valores aleatorios entre 0 y 1\n",
    "z=np.random.rand(3,5)\n",
    "z"
   ]
  },
  {
   "cell_type": "code",
   "execution_count": 7,
   "id": "62f52b79-02fe-4988-b6ee-0954ff9dd8f4",
   "metadata": {},
   "outputs": [
    {
     "data": {
      "text/plain": [
       "7.721341650094281"
      ]
     },
     "execution_count": 7,
     "metadata": {},
     "output_type": "execute_result"
    }
   ],
   "source": [
    "z.sum()"
   ]
  },
  {
   "cell_type": "code",
   "execution_count": 8,
   "id": "34d4076d-8fae-4924-8225-dccf5f847b4e",
   "metadata": {},
   "outputs": [
    {
     "data": {
      "text/plain": [
       "array([1.06473773, 2.04266899, 1.58056835, 1.88835118, 1.1450154 ])"
      ]
     },
     "execution_count": 8,
     "metadata": {},
     "output_type": "execute_result"
    }
   ],
   "source": [
    "z.sum(axis=0)  #por columnas axis 0"
   ]
  },
  {
   "cell_type": "code",
   "execution_count": 9,
   "id": "c0cd9eda-f9e5-4234-b044-4e7e44113962",
   "metadata": {},
   "outputs": [
    {
     "data": {
      "text/plain": [
       "array([2.46686046, 2.7692492 , 2.48523198])"
      ]
     },
     "execution_count": 9,
     "metadata": {},
     "output_type": "execute_result"
    }
   ],
   "source": [
    "z.sum(axis=1)  #por filas axis 1"
   ]
  },
  {
   "cell_type": "code",
   "execution_count": 10,
   "id": "d0c961da-a556-4e38-add5-b8af5a0151e3",
   "metadata": {},
   "outputs": [
    {
     "data": {
      "text/plain": [
       "array([[[0.16835939, 0.58558991, 0.50808019],\n",
       "        [0.29730254, 0.60933723, 0.52861179],\n",
       "        [0.4472141 , 0.46125195, 0.17463062],\n",
       "        [0.80804242, 0.667099  , 0.32215352],\n",
       "        [0.1990835 , 0.59310502, 0.71421365]],\n",
       "\n",
       "       [[0.01107267, 0.84556596, 0.26255542],\n",
       "        [0.42663659, 0.63805456, 0.49837532],\n",
       "        [0.47050994, 0.93584117, 0.96841341],\n",
       "        [0.65113916, 0.49233799, 0.44594234],\n",
       "        [0.08079271, 0.02901154, 0.25611287]],\n",
       "\n",
       "       [[0.36761443, 0.09008266, 0.52049269],\n",
       "        [0.33292955, 0.24666374, 0.13757237],\n",
       "        [0.79938147, 0.30483044, 0.06896216],\n",
       "        [0.84800354, 0.25707513, 0.85548728],\n",
       "        [0.76734575, 0.03714675, 0.10588192]]])"
      ]
     },
     "execution_count": 10,
     "metadata": {},
     "output_type": "execute_result"
    }
   ],
   "source": [
    "#ejemplo dimension 3, es como si se corrieran, por ejemplo antes axis 0 sera axis 1, el 1 sera 2, y el cero sera propiamente la\n",
    "#dimension más \"superficial\"\n",
    "\n",
    "z=np.random.rand(3,5,3)\n",
    "z"
   ]
  },
  {
   "cell_type": "code",
   "execution_count": 11,
   "id": "151e7c97-c784-411e-a7c1-bede911a62fb",
   "metadata": {},
   "outputs": [
    {
     "data": {
      "text/plain": [
       "array([[0.54704649, 1.52123852, 1.2911283 ],\n",
       "       [1.05686868, 1.49405554, 1.16455948],\n",
       "       [1.71710551, 1.70192355, 1.21200619],\n",
       "       [2.30718512, 1.41651213, 1.62358314],\n",
       "       [1.04722197, 0.65926331, 1.07620845]])"
      ]
     },
     "execution_count": 11,
     "metadata": {},
     "output_type": "execute_result"
    }
   ],
   "source": [
    "#dimension 2 seria \n",
    "z.sum(axis=0)"
   ]
  },
  {
   "cell_type": "code",
   "execution_count": 12,
   "id": "484713e6-ae43-42cb-a60a-3f694c50657e",
   "metadata": {},
   "outputs": [
    {
     "data": {
      "text/plain": [
       "array([[1.92000195, 2.91638311, 2.24768977],\n",
       "       [1.64015107, 2.94081123, 2.43139937],\n",
       "       [3.11527475, 0.93579872, 1.68839642]])"
      ]
     },
     "execution_count": 12,
     "metadata": {},
     "output_type": "execute_result"
    }
   ],
   "source": [
    "z.sum(axis=1)"
   ]
  },
  {
   "cell_type": "code",
   "execution_count": 13,
   "id": "a284363e-d9dc-4355-a50a-7e67917c1de8",
   "metadata": {},
   "outputs": [
    {
     "data": {
      "text/plain": [
       "array([[1.26202948, 1.43525157, 1.08309667, 1.79729493, 1.50640218],\n",
       "       [1.11919405, 1.56306647, 2.37476452, 1.5894195 , 0.36591713],\n",
       "       [0.97818978, 0.71716566, 1.17317407, 1.96056595, 0.91037442]])"
      ]
     },
     "execution_count": 13,
     "metadata": {},
     "output_type": "execute_result"
    }
   ],
   "source": [
    "z.sum(axis=2)  "
   ]
  },
  {
   "cell_type": "code",
   "execution_count": 15,
   "id": "1bfe1f41-b871-4d7d-9bcb-216de71c353f",
   "metadata": {},
   "outputs": [
    {
     "name": "stdout",
     "output_type": "stream",
     "text": [
      "[0.16835939 0.58558991 0.50808019]\n"
     ]
    },
    {
     "data": {
      "text/plain": [
       "1.262029483294758"
      ]
     },
     "execution_count": 15,
     "metadata": {},
     "output_type": "execute_result"
    }
   ],
   "source": [
    "# verificando primer valor del axis 2\n",
    "#primero accedemos a renglon\n",
    "\n",
    "print(z[0,0])\n",
    "\n",
    "z[0,0].sum()\n"
   ]
  },
  {
   "cell_type": "code",
   "execution_count": 16,
   "id": "e5936336-1171-40fc-82de-5d078c7aab4d",
   "metadata": {},
   "outputs": [
    {
     "name": "stdout",
     "output_type": "stream",
     "text": [
      "[0.16835939 0.29730254 0.4472141  0.80804242 0.1990835 ]\n"
     ]
    },
    {
     "data": {
      "text/plain": [
       "1.9200019478509103"
      ]
     },
     "execution_count": 16,
     "metadata": {},
     "output_type": "execute_result"
    }
   ],
   "source": [
    "#accediendo a primera columa de primera matriz, primero entramos a la primera matriz, luego usamos notacion usual\n",
    "print(z[0][:,0])\n",
    "z[0][:,0].sum()"
   ]
  },
  {
   "cell_type": "markdown",
   "id": "2af8a1ab-b02e-43c8-a87f-fa47fdf966a2",
   "metadata": {},
   "source": [
    "### explicacion de los axis\n",
    "\n",
    "supongamos que tenemos un arreglo de 3 dimensiones:\n",
    "```\n",
    "[\n",
    "[[1,1,1],[1,1,1],[1,1,1]]\n",
    "[[1,1,1],[1,1,1],[1,1,1]]\n",
    "[[1,1,1],[1,1,1],[1,1,1]]\n",
    "]\n",
    "```\n",
    "\n",
    "level 0 es como si te andentrarse en un corchete, el más externo, entonces tendriamos para el caso de suma\n",
    "\n",
    "```\n",
    "[[1,1,1],[1,1,1],[1,1,1]]    +    [[1,1,1],[1,1,1],[1,1,1]]    +    [[1,1,1],[1,1,1],[1,1,1]]\n",
    "\n",
    "```\n",
    "\n",
    "es decir, suma de matrices. para el caso axis = 1, nos adentramos dos corchetes, y tenemos\n",
    "\n",
    "```\n",
    "[1,1,1],[1,1,1],[1,1,1]\n",
    "[1,1,1],[1,1,1],[1,1,1]\n",
    "[1,1,1],[1,1,1],[1,1,1]\n",
    "```\n",
    "es decir, sumas de vectores de la forma \n",
    "\n",
    "```\n",
    "[1,1,1]    +    [1,1,1]    +    [1,1,1]\n",
    "[1,1,1]    +    [1,1,1]    +    [1,1,1]\n",
    "[1,1,1]    +    [1,1,1]    +    [1,1,1]\n",
    "```\n",
    "\n",
    "con lo que el resultado es como su sumaramos las columnas dentro de cada matriz, finalmete en caso axis 2, entramos aun más hasta los elementos \n",
    "\n",
    "```\n",
    "[1,1,1]\n",
    "\n",
    "```\n",
    "\n",
    "es decir\n",
    "```\n",
    "1+1+1\n",
    "```\n"
   ]
  },
  {
   "cell_type": "markdown",
   "id": "73099ee4-0592-4da0-8398-18cee5df4bc9",
   "metadata": {},
   "source": [
    "### np.random.\n",
    "al darle tab aparecen muchas distribuciones de probabilidad para generar numeros en arrays"
   ]
  },
  {
   "cell_type": "code",
   "execution_count": 38,
   "id": "5ed2b454-5021-4ed5-8560-fc7a969c0c82",
   "metadata": {},
   "outputs": [
    {
     "ename": "SyntaxError",
     "evalue": "invalid syntax (393120376.py, line 1)",
     "output_type": "error",
     "traceback": [
      "\u001b[0;36m  Cell \u001b[0;32mIn[38], line 1\u001b[0;36m\u001b[0m\n\u001b[0;31m    np.random.\u001b[0m\n\u001b[0m              ^\u001b[0m\n\u001b[0;31mSyntaxError\u001b[0m\u001b[0;31m:\u001b[0m invalid syntax\n"
     ]
    }
   ],
   "source": [
    "np.random."
   ]
  },
  {
   "cell_type": "code",
   "execution_count": 5,
   "id": "c45dcc79-bd92-4429-a611-d0c6347d4947",
   "metadata": {},
   "outputs": [
    {
     "data": {
      "text/plain": [
       "array([[[0.69531348, 0.39815269, 0.81583854],\n",
       "        [0.24431395, 0.41937184, 0.99741248],\n",
       "        [0.80554691, 0.65674085, 0.10081847],\n",
       "        [0.18275525, 0.37628301, 0.45360839],\n",
       "        [0.20300837, 0.2668046 , 0.18872762]],\n",
       "\n",
       "       [[0.84297983, 0.87224395, 0.98629208],\n",
       "        [0.60786294, 0.98971772, 0.43269249],\n",
       "        [0.47215026, 0.97211406, 0.60574734],\n",
       "        [0.51085726, 0.34308179, 0.25105897],\n",
       "        [0.95447361, 0.92082156, 0.9657179 ]],\n",
       "\n",
       "       [[0.96275485, 0.94680387, 0.48885999],\n",
       "        [0.99520028, 0.00489776, 0.88258104],\n",
       "        [0.06617334, 0.17572993, 0.05293479],\n",
       "        [0.90080387, 0.04975522, 0.30214646],\n",
       "        [0.03935475, 0.18244245, 0.97720384]]])"
      ]
     },
     "execution_count": 5,
     "metadata": {},
     "output_type": "execute_result"
    }
   ],
   "source": [
    "# generar numeros aleatorios dandole una \"semilla\" es decir, esta se queda fija y determina siempre los mismos numeros aleatorios. \n",
    "#puedo ejecutar muchas veces siempre da la misma suma, porque son los mismos nuemros\n",
    "np.random.seed(1993656)\n",
    "z=np.random.rand(3,5,3)\n",
    "z\n"
   ]
  },
  {
   "cell_type": "code",
   "execution_count": 31,
   "id": "2d47a1da-5bea-4742-aed3-de7fc01c151a",
   "metadata": {},
   "outputs": [
    {
     "data": {
      "text/plain": [
       "array([[[0.16501311, 0.48360088, 0.68359307],\n",
       "        [0.82032078, 0.31433263, 0.61463879],\n",
       "        [0.60995105, 0.67882129, 0.10089668],\n",
       "        [0.76494139, 0.28508584, 0.94911706],\n",
       "        [0.21815399, 0.96713372, 0.06574138]],\n",
       "\n",
       "       [[0.16835939, 0.58558991, 0.50808019],\n",
       "        [0.29730254, 0.60933723, 0.52861179],\n",
       "        [0.4472141 , 0.46125195, 0.17463062],\n",
       "        [0.80804242, 0.667099  , 0.32215352],\n",
       "        [0.1990835 , 0.59310502, 0.71421365]],\n",
       "\n",
       "       [[0.01107267, 0.84556596, 0.26255542],\n",
       "        [0.42663659, 0.63805456, 0.49837532],\n",
       "        [0.47050994, 0.93584117, 0.96841341],\n",
       "        [0.65113916, 0.49233799, 0.44594234],\n",
       "        [0.08079271, 0.02901154, 0.25611287]]])"
      ]
     },
     "execution_count": 31,
     "metadata": {},
     "output_type": "execute_result"
    }
   ],
   "source": [
    "#una vez usada se borra\n",
    "r=np.random.rand(3,5,3)\n",
    "r"
   ]
  },
  {
   "cell_type": "code",
   "execution_count": null,
   "id": "cdbf071b-9909-4f50-8ad1-8931e70cf7cd",
   "metadata": {},
   "outputs": [],
   "source": []
  }
 ],
 "metadata": {
  "kernelspec": {
   "display_name": "Python 3 (ipykernel)",
   "language": "python",
   "name": "python3"
  },
  "language_info": {
   "codemirror_mode": {
    "name": "ipython",
    "version": 3
   },
   "file_extension": ".py",
   "mimetype": "text/x-python",
   "name": "python",
   "nbconvert_exporter": "python",
   "pygments_lexer": "ipython3",
   "version": "3.11.7"
  }
 },
 "nbformat": 4,
 "nbformat_minor": 5
}
