{
 "cells": [
  {
   "cell_type": "markdown",
   "id": "eebc518b-7613-4d65-85e9-d7662e55470a",
   "metadata": {},
   "source": [
    "# Matrices sin np"
   ]
  },
  {
   "cell_type": "code",
   "execution_count": 2,
   "id": "27ee3848-c00d-4245-bc04-5fd3ad2a901d",
   "metadata": {},
   "outputs": [],
   "source": [
    "row = [1,2,3]"
   ]
  },
  {
   "cell_type": "code",
   "execution_count": 4,
   "id": "7bc9abd8-ab10-4578-8e56-9932f31f77fc",
   "metadata": {},
   "outputs": [],
   "source": [
    "col = [\n",
    "    [1],\n",
    "    [2],\n",
    "    [3]\n",
    "    ]"
   ]
  },
  {
   "cell_type": "code",
   "execution_count": 6,
   "id": "5f337898-7e15-4de3-b338-a49869443835",
   "metadata": {},
   "outputs": [
    {
     "data": {
      "text/plain": [
       "[[1], [2], [3]]"
      ]
     },
     "execution_count": 6,
     "metadata": {},
     "output_type": "execute_result"
    }
   ],
   "source": [
    "col"
   ]
  },
  {
   "cell_type": "code",
   "execution_count": 8,
   "id": "900bab32-53a0-4aa0-bb33-448636fecebe",
   "metadata": {},
   "outputs": [],
   "source": [
    "Matriz = [[1,2,3],[1,2,3],[1,2,3]]"
   ]
  },
  {
   "cell_type": "code",
   "execution_count": 12,
   "id": "00cf9f99-a01b-47ff-82b1-8dafd9030bc1",
   "metadata": {},
   "outputs": [
    {
     "data": {
      "text/plain": [
       "1"
      ]
     },
     "execution_count": 12,
     "metadata": {},
     "output_type": "execute_result"
    }
   ],
   "source": [
    "#para acceder\n",
    "Matriz[0][0]"
   ]
  },
  {
   "cell_type": "markdown",
   "id": "af4274dd-7644-4d5c-99ca-d46b51360133",
   "metadata": {},
   "source": [
    "Sin embargo es engorroso y el formato no se parece en nada al de matrices, para ello es mejor usar numpy\n",
    "\n",
    "# Numpy"
   ]
  },
  {
   "cell_type": "code",
   "execution_count": 21,
   "id": "f1b56230-470a-4936-a32e-28977772c754",
   "metadata": {},
   "outputs": [],
   "source": [
    "import numpy as np\n",
    "M = np.array([[1,2,3],[1,2,3],[1,2,3]])"
   ]
  },
  {
   "cell_type": "code",
   "execution_count": 23,
   "id": "6a645c83-8f3a-4457-9890-ae0ba17e44f1",
   "metadata": {},
   "outputs": [],
   "source": [
    "M = np.array([[1,2,3],[1,2,3],[1,2,3]],dtype = float)"
   ]
  },
  {
   "cell_type": "code",
   "execution_count": 27,
   "id": "f3bbc244-63b8-4244-8cdf-5f88c617341b",
   "metadata": {},
   "outputs": [
    {
     "data": {
      "text/plain": [
       "array([[0., 0., 0.],\n",
       "       [0., 0., 0.]])"
      ]
     },
     "execution_count": 27,
     "metadata": {},
     "output_type": "execute_result"
    }
   ],
   "source": [
    "np.zeros((2,3))"
   ]
  },
  {
   "cell_type": "code",
   "execution_count": 31,
   "id": "ad2fdd4a-7071-43fb-a89e-763f7d17ddeb",
   "metadata": {},
   "outputs": [
    {
     "data": {
      "text/plain": [
       "array([[1., 1., 1.],\n",
       "       [1., 1., 1.]])"
      ]
     },
     "execution_count": 31,
     "metadata": {},
     "output_type": "execute_result"
    }
   ],
   "source": [
    "np.ones((2,3))"
   ]
  },
  {
   "cell_type": "code",
   "execution_count": 33,
   "id": "a9408db5-c4df-435e-b00b-6afac3243029",
   "metadata": {},
   "outputs": [
    {
     "data": {
      "text/plain": [
       "(3, 3)"
      ]
     },
     "execution_count": 33,
     "metadata": {},
     "output_type": "execute_result"
    }
   ],
   "source": [
    "np.shape(M)"
   ]
  },
  {
   "cell_type": "code",
   "execution_count": 72,
   "id": "47e72bea-382b-48f3-ad8c-e361cb9848f4",
   "metadata": {},
   "outputs": [],
   "source": [
    "## Operaciones matricez\n",
    "A=np.zeros((2,2))\n",
    "B=np.ones((2,2))\n",
    "C=np.array([[1,2],[2,3]])"
   ]
  },
  {
   "cell_type": "code",
   "execution_count": 47,
   "id": "5b70ab58-70fc-47c5-884d-f164206446e1",
   "metadata": {},
   "outputs": [
    {
     "data": {
      "text/plain": [
       "array([[1., 1.],\n",
       "       [1., 1.]])"
      ]
     },
     "execution_count": 47,
     "metadata": {},
     "output_type": "execute_result"
    }
   ],
   "source": [
    "#suma\n",
    "A+B"
   ]
  },
  {
   "cell_type": "code",
   "execution_count": 49,
   "id": "9a24929f-b09a-485e-8063-34754eac3a76",
   "metadata": {},
   "outputs": [
    {
     "data": {
      "text/plain": [
       "array([[0., 0.],\n",
       "       [0., 0.]])"
      ]
     },
     "execution_count": 49,
     "metadata": {},
     "output_type": "execute_result"
    }
   ],
   "source": [
    "#porducto de matricez\n",
    "A.dot(B)"
   ]
  },
  {
   "cell_type": "code",
   "execution_count": 53,
   "id": "4c7e424a-3256-49e9-b26d-829e29eeb23f",
   "metadata": {},
   "outputs": [
    {
     "data": {
      "text/plain": [
       "array([[0., 0.],\n",
       "       [0., 0.]])"
      ]
     },
     "execution_count": 53,
     "metadata": {},
     "output_type": "execute_result"
    }
   ],
   "source": [
    "# transpuesta\n",
    "A.transpose()"
   ]
  },
  {
   "cell_type": "code",
   "execution_count": 55,
   "id": "a28495ab-24e8-43f1-8231-2ab0a20d9860",
   "metadata": {},
   "outputs": [
    {
     "data": {
      "text/plain": [
       "0.0"
      ]
     },
     "execution_count": 55,
     "metadata": {},
     "output_type": "execute_result"
    }
   ],
   "source": [
    "A.trace() #traza amtriz"
   ]
  },
  {
   "cell_type": "markdown",
   "id": "fd3debad-d484-4b23-9db5-9c52f70a251f",
   "metadata": {},
   "source": [
    "## np.linalg. \n",
    "dar tab para ver propieades de algebra lineal y matrices."
   ]
  },
  {
   "cell_type": "code",
   "execution_count": 74,
   "id": "d174bb35-6e7c-44d1-bb7c-d259711a8c6b",
   "metadata": {},
   "outputs": [
    {
     "data": {
      "text/plain": [
       "2"
      ]
     },
     "execution_count": 74,
     "metadata": {},
     "output_type": "execute_result"
    }
   ],
   "source": [
    "np.linalg.matrix_rank(C)"
   ]
  },
  {
   "cell_type": "code",
   "execution_count": 80,
   "id": "cc222d02-a066-4c98-ba8d-bbc8d67e611f",
   "metadata": {},
   "outputs": [
    {
     "data": {
      "text/plain": [
       "array([[ 5,  8],\n",
       "       [ 8, 13]])"
      ]
     },
     "execution_count": 80,
     "metadata": {},
     "output_type": "execute_result"
    }
   ],
   "source": [
    "np.linalg.matrix_power(C,2)"
   ]
  },
  {
   "cell_type": "code",
   "execution_count": 82,
   "id": "11f4c9ae-6010-4e67-be51-ccb40a69ce60",
   "metadata": {},
   "outputs": [
    {
     "data": {
      "text/plain": [
       "-1.0"
      ]
     },
     "execution_count": 82,
     "metadata": {},
     "output_type": "execute_result"
    }
   ],
   "source": [
    "np.linalg.det(C)"
   ]
  },
  {
   "cell_type": "code",
   "execution_count": 84,
   "id": "85194af7-89b3-40dd-81f4-eaa1e899daa0",
   "metadata": {},
   "outputs": [
    {
     "data": {
      "text/plain": [
       "array([[-3.,  2.],\n",
       "       [ 2., -1.]])"
      ]
     },
     "execution_count": 84,
     "metadata": {},
     "output_type": "execute_result"
    }
   ],
   "source": [
    "np.linalg.inv(C)"
   ]
  },
  {
   "cell_type": "code",
   "execution_count": 88,
   "id": "aedd2066-b71c-4057-8e92-376d2edc45c3",
   "metadata": {},
   "outputs": [
    {
     "data": {
      "text/plain": [
       "array([[1., 0.],\n",
       "       [0., 1.]])"
      ]
     },
     "execution_count": 88,
     "metadata": {},
     "output_type": "execute_result"
    }
   ],
   "source": [
    "np.linalg.inv(C).dot(C) #propiedad de inversa"
   ]
  },
  {
   "cell_type": "code",
   "execution_count": null,
   "id": "2841e05a-9647-4e70-9b60-1b877a868ff3",
   "metadata": {},
   "outputs": [],
   "source": []
  }
 ],
 "metadata": {
  "kernelspec": {
   "display_name": "Python 3 (ipykernel)",
   "language": "python",
   "name": "python3"
  },
  "language_info": {
   "codemirror_mode": {
    "name": "ipython",
    "version": 3
   },
   "file_extension": ".py",
   "mimetype": "text/x-python",
   "name": "python",
   "nbconvert_exporter": "python",
   "pygments_lexer": "ipython3",
   "version": "3.11.7"
  }
 },
 "nbformat": 4,
 "nbformat_minor": 5
}
