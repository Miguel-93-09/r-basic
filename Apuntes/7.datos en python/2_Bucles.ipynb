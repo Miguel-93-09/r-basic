{
 "cells": [
  {
   "cell_type": "markdown",
   "id": "597e47a5-6346-4137-99c2-b570491da71e",
   "metadata": {},
   "source": [
    "# bucles\n",
    "\n",
    "for recorre objetos iterables"
   ]
  },
  {
   "cell_type": "code",
   "execution_count": 1,
   "id": "5abfd7df-f61e-402b-ac66-a8ca063cf381",
   "metadata": {},
   "outputs": [
    {
     "name": "stdout",
     "output_type": "stream",
     "text": [
      "1\n",
      "2\n",
      "3\n",
      "4\n"
     ]
    }
   ],
   "source": [
    "N=[1,2,3,4]\n",
    "for numero in N:\n",
    "    print(numero)\n",
    "    "
   ]
  },
  {
   "cell_type": "code",
   "execution_count": 2,
   "id": "a4363aae-931d-4781-862e-53e38cc6f40f",
   "metadata": {},
   "outputs": [
    {
     "name": "stdout",
     "output_type": "stream",
     "text": [
      "0\n",
      "1\n",
      "2\n",
      "3\n",
      "4\n",
      "5\n",
      "6\n",
      "7\n",
      "8\n",
      "9\n"
     ]
    }
   ],
   "source": [
    "range(0,10)  #crea un rango de valores de 0 a 9, analogamente range(10) es lo mismo\n",
    "\n",
    "for numero in range(10):\n",
    "    print(numero)"
   ]
  },
  {
   "cell_type": "code",
   "execution_count": 3,
   "id": "2248f213-4517-444b-9915-a70e23b6a1a8",
   "metadata": {},
   "outputs": [
    {
     "name": "stdout",
     "output_type": "stream",
     "text": [
      "p\n",
      "e\n",
      "r\n",
      "r\n",
      "o\n",
      " \n",
      "c\n",
      "o\n",
      "c\n",
      "h\n",
      "i\n",
      "n\n",
      "o\n"
     ]
    }
   ],
   "source": [
    "#sobre strng\n",
    "\n",
    "for c in \"perro cochino\":\n",
    "    print(c)"
   ]
  },
  {
   "cell_type": "code",
   "execution_count": 2,
   "id": "c9bb11b5-329f-4c7a-a89f-6fad0b3dda7e",
   "metadata": {},
   "outputs": [
    {
     "name": "stdout",
     "output_type": "stream",
     "text": [
      "sa\n",
      "da\n",
      "ea\n",
      "wa\n"
     ]
    }
   ],
   "source": [
    "palabras = [\"sa\",\"da\",\"ea\",\"wa\"]\n",
    "\n",
    "for i in palabras:\n",
    "    print(i)"
   ]
  },
  {
   "cell_type": "code",
   "execution_count": 4,
   "id": "e05ba894-b7c5-4fdc-82a3-ea5431f68394",
   "metadata": {},
   "outputs": [
    {
     "name": "stdout",
     "output_type": "stream",
     "text": [
      "s\n",
      "a\n",
      "d\n",
      "a\n",
      "e\n",
      "a\n",
      "w\n",
      "a\n"
     ]
    }
   ],
   "source": [
    "palabras = [\"sa\",\"da\",\"ea\",\"wa\"]\n",
    "\n",
    "for i in palabras:\n",
    "    for d in i:\n",
    "        print(d)"
   ]
  },
  {
   "cell_type": "markdown",
   "id": "d133564b-6f89-45dd-8f07-aa2db4175207",
   "metadata": {},
   "source": [
    "# while\n",
    "se ejecuta hasta que condicion booleana deje de ser verdadero"
   ]
  },
  {
   "cell_type": "code",
   "execution_count": 8,
   "id": "e5d08f93-fb37-41d8-8cf7-af9f016bdfdf",
   "metadata": {},
   "outputs": [
    {
     "name": "stdout",
     "output_type": "stream",
     "text": [
      "1\n",
      "2\n",
      "3\n",
      "4\n",
      "5\n",
      "6\n",
      "7\n",
      "8\n",
      "9\n"
     ]
    }
   ],
   "source": [
    "count=1  #casi siempre contador se inicia fuera de bucle\n",
    "\n",
    "while count < 10:\n",
    "    print(count)\n",
    "    count += 1"
   ]
  },
  {
   "cell_type": "markdown",
   "id": "ac9b1482-756c-4106-ab88-947c05dd962c",
   "metadata": {},
   "source": [
    "# obteniendo la posicion"
   ]
  },
  {
   "cell_type": "code",
   "execution_count": 6,
   "id": "bede5e3c-9624-44be-81be-2b7c980ee19c",
   "metadata": {},
   "outputs": [
    {
     "data": {
      "text/plain": [
       "[(0, 1), (1, 3), (2, 5), (3, 7), (4, 11), (5, 13), (6, 17)]"
      ]
     },
     "execution_count": 6,
     "metadata": {},
     "output_type": "execute_result"
    }
   ],
   "source": [
    "primos =[1,3,5,7,11,13,17]\n",
    "\n",
    "enumerate(primos)   # da dupla\n",
    "list(enumerate(primos))   #da enlistado de la dupla"
   ]
  },
  {
   "cell_type": "code",
   "execution_count": 8,
   "id": "54bc2116-bcad-4902-970e-c925f76ba570",
   "metadata": {},
   "outputs": [
    {
     "name": "stdout",
     "output_type": "stream",
     "text": [
      "0 1\n",
      "1 3\n",
      "2 5\n",
      "3 7\n",
      "4 11\n",
      "5 13\n",
      "6 17\n"
     ]
    }
   ],
   "source": [
    "for p,v in enumerate(primos):\n",
    "    print(p,v)"
   ]
  },
  {
   "cell_type": "code",
   "execution_count": 10,
   "id": "09a15b33-1d79-4868-bd21-0eb278ecc536",
   "metadata": {},
   "outputs": [
    {
     "name": "stdout",
     "output_type": "stream",
     "text": [
      "(0, 1)\n",
      "(1, 3)\n",
      "(2, 5)\n",
      "(3, 7)\n",
      "(4, 11)\n",
      "(5, 13)\n",
      "(6, 17)\n"
     ]
    }
   ],
   "source": [
    "for p in enumerate(primos):\n",
    "    print(p)\n",
    "# nos dara la dupla"
   ]
  },
  {
   "cell_type": "code",
   "execution_count": 12,
   "id": "eca4ad4b-9c14-40e9-b7aa-b4c423d7f282",
   "metadata": {},
   "outputs": [
    {
     "name": "stdout",
     "output_type": "stream",
     "text": [
      "1\n",
      "3\n",
      "5\n",
      "7\n",
      "11\n",
      "13\n",
      "17\n"
     ]
    }
   ],
   "source": [
    "for p,v in enumerate(primos):\n",
    "    print(v)"
   ]
  },
  {
   "cell_type": "markdown",
   "id": "53cc797a-d419-43a3-99f9-58760ed4343f",
   "metadata": {},
   "source": [
    "# criba eratostenes"
   ]
  },
  {
   "cell_type": "code",
   "execution_count": 3,
   "id": "408180c2-0eee-41d0-98f1-f5484d0a4254",
   "metadata": {},
   "outputs": [
    {
     "name": "stdout",
     "output_type": "stream",
     "text": [
      "[2, 3, 5, 7, 11, 13, 17, 19, 23, 29, 31, 37, 41, 43, 47, 53, 59, 61, 67, 71, 73, 79, 83, 89, 97]\n",
      "[4, 6, 8, 10, 12, 14, 16, 18, 20, 22, 24, 26, 28, 30, 32, 34, 36, 38, 40, 42, 44, 46, 48, 50, 52, 54, 56, 58, 60, 62, 64, 66, 68, 70, 72, 74, 76, 78, 80, 82, 84, 86, 88, 90, 92, 94, 96, 98, 100, 6, 9, 12, 15, 18, 21, 24, 27, 30, 33, 36, 39, 42, 45, 48, 51, 54, 57, 60, 63, 66, 69, 72, 75, 78, 81, 84, 87, 90, 93, 96, 99, 10, 15, 20, 25, 30, 35, 40, 45, 50, 55, 60, 65, 70, 75, 80, 85, 90, 95, 100, 14, 21, 28, 35, 42, 49, 56, 63, 70, 77, 84, 91, 98, 22, 33, 44, 55, 66, 77, 88, 99, 26, 39, 52, 65, 78, 91, 34, 51, 68, 85, 38, 57, 76, 95, 46, 69, 92, 58, 87, 62, 93, 74, 82, 86, 94]\n"
     ]
    }
   ],
   "source": [
    "A = list(range(2,101))\n",
    "multiplos = []\n",
    "primos = []\n",
    "\n",
    "for i in A:\n",
    "    if i not in multiplos:\n",
    "        primos.append(i)\n",
    "        for p in range(i+1,101):\n",
    "            if p%i == 0:\n",
    "                multiplos.append(p)\n",
    "\n",
    "print(primos)\n",
    "print(multiplos)     \n"
   ]
  },
  {
   "cell_type": "code",
   "execution_count": 31,
   "id": "91405071-2d8b-475f-a57e-6e04230a0cf6",
   "metadata": {},
   "outputs": [
    {
     "data": {
      "text/plain": [
       "1"
      ]
     },
     "execution_count": 31,
     "metadata": {},
     "output_type": "execute_result"
    }
   ],
   "source": [
    "5%4\n"
   ]
  },
  {
   "cell_type": "code",
   "execution_count": null,
   "id": "d6842c37-9395-411c-8252-b11314648139",
   "metadata": {},
   "outputs": [],
   "source": []
  }
 ],
 "metadata": {
  "kernelspec": {
   "display_name": "Python 3 (ipykernel)",
   "language": "python",
   "name": "python3"
  },
  "language_info": {
   "codemirror_mode": {
    "name": "ipython",
    "version": 3
   },
   "file_extension": ".py",
   "mimetype": "text/x-python",
   "name": "python",
   "nbconvert_exporter": "python",
   "pygments_lexer": "ipython3",
   "version": "3.11.7"
  }
 },
 "nbformat": 4,
 "nbformat_minor": 5
}
