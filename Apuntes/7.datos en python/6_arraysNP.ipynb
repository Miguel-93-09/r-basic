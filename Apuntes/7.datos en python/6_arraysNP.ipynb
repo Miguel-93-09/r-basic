{
 "cells": [
  {
   "cell_type": "markdown",
   "id": "3b84dff1-fb06-4010-9884-496dc9429022",
   "metadata": {},
   "source": [
    "# Propiedades"
   ]
  },
  {
   "cell_type": "code",
   "execution_count": 1,
   "id": "52062e86-db87-4ecb-8f4c-4b461e80eb20",
   "metadata": {},
   "outputs": [
    {
     "data": {
      "text/plain": [
       "array([[ 0.,  1.,  2.,  3.],\n",
       "       [ 4.,  5.,  6.,  7.],\n",
       "       [ 8.,  9., 10., 11.]])"
      ]
     },
     "execution_count": 1,
     "metadata": {},
     "output_type": "execute_result"
    }
   ],
   "source": [
    "import numpy as np \n",
    "x = np.arange(12.0)\n",
    "x=x.reshape((3,4))\n",
    "#alternativa:\n",
    "#np.resize(np.arange(0,16),(4,4))\n",
    "x "
   ]
  },
  {
   "cell_type": "code",
   "execution_count": 2,
   "id": "6e6198f9-902a-4703-8ba9-cc120b9f29d3",
   "metadata": {},
   "outputs": [
    {
     "data": {
      "text/plain": [
       "2"
      ]
     },
     "execution_count": 2,
     "metadata": {},
     "output_type": "execute_result"
    }
   ],
   "source": [
    "x.ndim"
   ]
  },
  {
   "cell_type": "code",
   "execution_count": 3,
   "id": "b8e6df05-9acc-468d-8f66-e7dc673105b7",
   "metadata": {},
   "outputs": [
    {
     "data": {
      "text/plain": [
       "(3, 4)"
      ]
     },
     "execution_count": 3,
     "metadata": {},
     "output_type": "execute_result"
    }
   ],
   "source": [
    "#la dimension de tupla coincide con la dimesion del array ndim\n",
    "x.shape"
   ]
  },
  {
   "cell_type": "code",
   "execution_count": 4,
   "id": "1024ea93-70a5-4748-9a99-ac7712b47d14",
   "metadata": {},
   "outputs": [
    {
     "data": {
      "text/plain": [
       "dtype('float64')"
      ]
     },
     "execution_count": 4,
     "metadata": {},
     "output_type": "execute_result"
    }
   ],
   "source": [
    "x.dtype"
   ]
  },
  {
   "cell_type": "code",
   "execution_count": 5,
   "id": "e77a8f97-8731-4411-a031-2b312c4636c1",
   "metadata": {},
   "outputs": [
    {
     "data": {
      "text/plain": [
       "8"
      ]
     },
     "execution_count": 5,
     "metadata": {},
     "output_type": "execute_result"
    }
   ],
   "source": [
    "# cuantos bytes ocupa cada elemnto de la matriz\n",
    "x.itemsize"
   ]
  },
  {
   "cell_type": "code",
   "execution_count": 6,
   "id": "dae983c9-4dd8-4bda-94e1-aac4ae812aba",
   "metadata": {},
   "outputs": [
    {
     "data": {
      "text/plain": [
       "<memory at 0x718f1f5572a0>"
      ]
     },
     "execution_count": 6,
     "metadata": {},
     "output_type": "execute_result"
    }
   ],
   "source": [
    "#ver posicion de memoria\n",
    "x.data"
   ]
  },
  {
   "cell_type": "markdown",
   "id": "8e71e627-96ea-44d9-bb0b-73cfbb7504db",
   "metadata": {},
   "source": [
    "# reccoriendo arrays"
   ]
  },
  {
   "cell_type": "code",
   "execution_count": 7,
   "id": "0b86a45e-e3e5-46ec-965b-e054767062f0",
   "metadata": {},
   "outputs": [
    {
     "data": {
      "text/plain": [
       "array([ 8.,  9., 10., 11.])"
      ]
     },
     "execution_count": 7,
     "metadata": {},
     "output_type": "execute_result"
    }
   ],
   "source": [
    "#primer numero, primera dimesion, en este caso se accede al segundo elemnto de la matriz que es el tercer renglon\n",
    "x[2]"
   ]
  },
  {
   "cell_type": "code",
   "execution_count": 8,
   "id": "356a025e-ddef-4571-9545-726e7828802b",
   "metadata": {},
   "outputs": [
    {
     "data": {
      "text/plain": [
       "9.0"
      ]
     },
     "execution_count": 8,
     "metadata": {},
     "output_type": "execute_result"
    }
   ],
   "source": [
    "# segundo elemento, del tercer elemento del array\n",
    "x[2,1]"
   ]
  },
  {
   "cell_type": "code",
   "execution_count": 9,
   "id": "3fe869ee-3012-40b3-b7db-ba261873f143",
   "metadata": {},
   "outputs": [
    {
     "name": "stdout",
     "output_type": "stream",
     "text": [
      "[[ 0.  1.  2.  3.]\n",
      " [ 4.  5.  6.  7.]\n",
      " [ 8.  9. 10. 11.]]\n"
     ]
    },
    {
     "data": {
      "text/plain": [
       "array([[ 0.,  1.,  2.,  3.,  4.,  5.],\n",
       "       [ 6.,  7.,  8.,  9., 10., 11.]])"
      ]
     },
     "execution_count": 9,
     "metadata": {},
     "output_type": "execute_result"
    }
   ],
   "source": [
    "# redomensionando con shape, de esta forma SI se modifica\n",
    "print(x)\n",
    "x.shape = (2,6)\n",
    "x"
   ]
  },
  {
   "cell_type": "code",
   "execution_count": 10,
   "id": "78c1365b-37b4-45b0-acab-79822e89a352",
   "metadata": {},
   "outputs": [
    {
     "data": {
      "text/plain": [
       "array([[ 0.,  1.,  2.,  3.],\n",
       "       [ 4.,  5.,  6.,  7.],\n",
       "       [ 8.,  9., 10., 11.]])"
      ]
     },
     "execution_count": 10,
     "metadata": {},
     "output_type": "execute_result"
    }
   ],
   "source": [
    "x.shape = (3,4)\n",
    "x"
   ]
  },
  {
   "cell_type": "code",
   "execution_count": 11,
   "id": "afb802dd-0ed9-4247-ad38-d57be4686138",
   "metadata": {},
   "outputs": [
    {
     "data": {
      "text/plain": [
       "array([[4., 5.],\n",
       "       [8., 9.]])"
      ]
     },
     "execution_count": 11,
     "metadata": {},
     "output_type": "execute_result"
    }
   ],
   "source": [
    "# para obtener sub arrays\n",
    "x[1:,0:2]"
   ]
  },
  {
   "cell_type": "code",
   "execution_count": 12,
   "id": "6dc29456-53bd-43e6-9de2-20b982bac66a",
   "metadata": {},
   "outputs": [
    {
     "data": {
      "text/plain": [
       "array([[ 0.,  1.,  2.,  3.],\n",
       "       [ 8.,  9., 10., 11.]])"
      ]
     },
     "execution_count": 12,
     "metadata": {},
     "output_type": "execute_result"
    }
   ],
   "source": [
    "#salteados\n",
    "x[::2]"
   ]
  },
  {
   "cell_type": "code",
   "execution_count": 13,
   "id": "0b1864c3-a1bc-41cf-93b2-96653174d624",
   "metadata": {},
   "outputs": [
    {
     "data": {
      "text/plain": [
       "array([0., 4., 8.])"
      ]
     },
     "execution_count": 13,
     "metadata": {},
     "output_type": "execute_result"
    }
   ],
   "source": [
    "#columna primera\n",
    "x[:,0]"
   ]
  },
  {
   "cell_type": "code",
   "execution_count": 14,
   "id": "905e8170-641a-4641-8b85-edc6be62c9d4",
   "metadata": {},
   "outputs": [
    {
     "data": {
      "text/plain": [
       "array([[ 0.,  2.],\n",
       "       [ 4.,  6.],\n",
       "       [ 8., 10.]])"
      ]
     },
     "execution_count": 14,
     "metadata": {},
     "output_type": "execute_result"
    }
   ],
   "source": [
    "#si hay más de una columna implicada creara renglones, si no sera un solo renglon como caso anterior.\n",
    "x[:,[0,2]]"
   ]
  },
  {
   "cell_type": "markdown",
   "id": "dfb03453-463b-4f65-b663-fe573a59dd54",
   "metadata": {},
   "source": [
    "# creando np con salto predefinido"
   ]
  },
  {
   "cell_type": "code",
   "execution_count": 15,
   "id": "c6ce5e59-3cd9-433b-b6ad-8fdc2b040950",
   "metadata": {},
   "outputs": [
    {
     "data": {
      "text/plain": [
       "array([ 5,  7,  9, 11, 13, 15, 17, 19, 21, 23, 25, 27, 29])"
      ]
     },
     "execution_count": 15,
     "metadata": {},
     "output_type": "execute_result"
    }
   ],
   "source": [
    "g = np.arange(5,30,2)\n",
    "g"
   ]
  },
  {
   "cell_type": "code",
   "execution_count": 16,
   "id": "48777d98-272a-4e36-b87e-1d3a05b1e0f0",
   "metadata": {},
   "outputs": [
    {
     "data": {
      "text/plain": [
       "array([10,  8,  6,  4,  2])"
      ]
     },
     "execution_count": 16,
     "metadata": {},
     "output_type": "execute_result"
    }
   ],
   "source": [
    "g1 = np.arange(10,0,-2)\n",
    "g1"
   ]
  },
  {
   "cell_type": "markdown",
   "id": "58b13bd4-0ec6-4dce-886d-abd8d260eeeb",
   "metadata": {},
   "source": [
    "# Empleando dicho np para recorrer"
   ]
  },
  {
   "cell_type": "code",
   "execution_count": 18,
   "id": "c3ae03bf-db1a-4b8e-992a-d9fd10f18a92",
   "metadata": {},
   "outputs": [
    {
     "data": {
      "text/plain": [
       "array([12, 13, 14, 15, 16, 17, 18, 19, 20, 21, 22, 23])"
      ]
     },
     "execution_count": 18,
     "metadata": {},
     "output_type": "execute_result"
    }
   ],
   "source": [
    "y = np.arange(12,24)\n",
    "y"
   ]
  },
  {
   "cell_type": "code",
   "execution_count": 19,
   "id": "4ccb55f9-a529-4168-b524-4cc2dea16bce",
   "metadata": {},
   "outputs": [
    {
     "data": {
      "text/plain": [
       "array([22, 20, 18, 16, 14])"
      ]
     },
     "execution_count": 19,
     "metadata": {},
     "output_type": "execute_result"
    }
   ],
   "source": [
    "#notemos que posiciones tambien se cuentan desde 0\n",
    "y[g1]"
   ]
  },
  {
   "cell_type": "markdown",
   "id": "68b09141-2b17-4865-ae90-0bb8b2310329",
   "metadata": {},
   "source": [
    "# extrayendo sub arrays en orden deseado"
   ]
  },
  {
   "cell_type": "code",
   "execution_count": 22,
   "id": "eaa4c94d-d96f-430a-b940-bac42121d4d7",
   "metadata": {},
   "outputs": [
    {
     "data": {
      "text/plain": [
       "array([[ 0.,  1.,  2.,  3.],\n",
       "       [ 4.,  5.,  6.,  7.],\n",
       "       [ 8.,  9., 10., 11.]])"
      ]
     },
     "execution_count": 22,
     "metadata": {},
     "output_type": "execute_result"
    }
   ],
   "source": [
    "x"
   ]
  },
  {
   "cell_type": "code",
   "execution_count": 23,
   "id": "18b62dd4-ebb0-4f22-a4d2-1c55da23d8c9",
   "metadata": {},
   "outputs": [
    {
     "data": {
      "text/plain": [
       "array([[ 4.,  5.,  6.,  7.],\n",
       "       [ 8.,  9., 10., 11.],\n",
       "       [ 0.,  1.,  2.,  3.]])"
      ]
     },
     "execution_count": 23,
     "metadata": {},
     "output_type": "execute_result"
    }
   ],
   "source": [
    "#supga queremos segunda, tercera, primera fila, se puede hacer con listas\n",
    "x[[1,2,0]]"
   ]
  },
  {
   "cell_type": "code",
   "execution_count": 24,
   "id": "7e6ee0c3-6d92-43b1-96c0-fba02e2fa8af",
   "metadata": {},
   "outputs": [],
   "source": [
    "# queremos elemento [2,2],[1,1],[0,0] , es decir, diagonal al reves; distinto a R que tomaria matriz 3x3 reordenada"
   ]
  },
  {
   "cell_type": "code",
   "execution_count": 25,
   "id": "3c49b06d-68a8-419c-9799-f6493ead2b6c",
   "metadata": {},
   "outputs": [
    {
     "data": {
      "text/plain": [
       "array([10.,  5.,  0.])"
      ]
     },
     "execution_count": 25,
     "metadata": {},
     "output_type": "execute_result"
    }
   ],
   "source": [
    "x[[2,1,0],[2,1,0]]"
   ]
  },
  {
   "cell_type": "code",
   "execution_count": 26,
   "id": "fde50fde-d825-4a27-adb0-89551babfc44",
   "metadata": {},
   "outputs": [
    {
     "data": {
      "text/plain": [
       "array([6., 1., 0.])"
      ]
     },
     "execution_count": 26,
     "metadata": {},
     "output_type": "execute_result"
    }
   ],
   "source": [
    "#queremos posiciones arbitrarias\n",
    "x[[1,0,0],[2,1,0]]"
   ]
  },
  {
   "cell_type": "code",
   "execution_count": 31,
   "id": "62849b3f-71cc-4932-8c3b-11a1ac43abf7",
   "metadata": {},
   "outputs": [
    {
     "data": {
      "text/plain": [
       "array([[10.,  9.,  8.],\n",
       "       [ 6.,  5.,  4.],\n",
       "       [ 2.,  1.,  0.]])"
      ]
     },
     "execution_count": 31,
     "metadata": {},
     "output_type": "execute_result"
    }
   ],
   "source": [
    "#recreando R\n",
    "x[[2,1,0]][:,[2,1,0]]"
   ]
  },
  {
   "cell_type": "markdown",
   "id": "e755c508-c1c4-4ba6-a81f-1e782ccdddf7",
   "metadata": {},
   "source": [
    "# Accediento por booleanas"
   ]
  },
  {
   "cell_type": "code",
   "execution_count": 88,
   "id": "a4c5188d-9abb-42a2-9dc0-f510c0862abd",
   "metadata": {},
   "outputs": [
    {
     "data": {
      "text/plain": [
       "array([[False, False, False, False],\n",
       "       [ True,  True,  True,  True],\n",
       "       [ True,  True,  True,  True]])"
      ]
     },
     "execution_count": 88,
     "metadata": {},
     "output_type": "execute_result"
    }
   ],
   "source": [
    "# funciona puesto que primero obtenemos matriz de falses\n",
    "x>3"
   ]
  },
  {
   "cell_type": "code",
   "execution_count": 90,
   "id": "2323067a-b18b-462e-bf22-c80d1604c426",
   "metadata": {},
   "outputs": [
    {
     "data": {
      "text/plain": [
       "array([ 4.,  5.,  6.,  7.,  8.,  9., 10., 11.])"
      ]
     },
     "execution_count": 90,
     "metadata": {},
     "output_type": "execute_result"
    }
   ],
   "source": [
    "#si lo anterior se lo ponemos como array boleado, entonces filtrara, queda array unidimensional\n",
    "x[x>3]"
   ]
  },
  {
   "cell_type": "markdown",
   "id": "9975ac6d-9371-48f3-bc18-0aad5bd1c353",
   "metadata": {},
   "source": [
    "# cambiando valores"
   ]
  },
  {
   "cell_type": "code",
   "execution_count": 58,
   "id": "9ba5b23d-cad8-4d21-a41e-7b0f62a7f8ee",
   "metadata": {},
   "outputs": [
    {
     "data": {
      "text/plain": [
       "array([[ 0.,  1.,  2.,  3.],\n",
       "       [ 4.,  5.,  6.,  7.],\n",
       "       [ 8.,  9., 10., 11.]])"
      ]
     },
     "execution_count": 58,
     "metadata": {},
     "output_type": "execute_result"
    }
   ],
   "source": [
    "# solo se necesita que el ocnjunto a reemplazar tenga el mismo tamaño\n",
    "x"
   ]
  },
  {
   "cell_type": "code",
   "execution_count": 60,
   "id": "d7d7fa1f-c375-4958-b77d-54dcbf996ce7",
   "metadata": {},
   "outputs": [
    {
     "data": {
      "text/plain": [
       "array([[ 0.,  1.,  2.,  3.],\n",
       "       [ 1.,  1.,  1.,  1.],\n",
       "       [ 8.,  9., 10., 11.]])"
      ]
     },
     "execution_count": 60,
     "metadata": {},
     "output_type": "execute_result"
    }
   ],
   "source": [
    "x[1]=1\n",
    "x"
   ]
  },
  {
   "cell_type": "code",
   "execution_count": 111,
   "id": "32b141e3-fec0-4139-8a5f-3e4a53c85923",
   "metadata": {},
   "outputs": [
    {
     "data": {
      "text/plain": [
       "array([[ 0.,  1.,  2.,  3.],\n",
       "       [ 1.,  0.,  1.,  1.],\n",
       "       [ 8.,  9., 10.,  0.]])"
      ]
     },
     "execution_count": 111,
     "metadata": {},
     "output_type": "execute_result"
    }
   ],
   "source": [
    "x[[1,2],[1,3]]=[0,0]\n",
    "x"
   ]
  },
  {
   "cell_type": "markdown",
   "id": "004dcfad-232f-4a50-a216-9ed7f25f27b6",
   "metadata": {},
   "source": [
    "# IMprotante, error al ingresar diferentes tipos de datos\n",
    "\n",
    "Supongamos tenemos np tipo entero, entonces al agregar valor flotante, se truncara a entero para mantener homogeneadad"
   ]
  },
  {
   "cell_type": "code",
   "execution_count": 62,
   "id": "38a97b0d-d92e-48a8-baf4-bf8be82194fc",
   "metadata": {},
   "outputs": [
    {
     "data": {
      "text/plain": [
       "dtype('int64')"
      ]
     },
     "execution_count": 62,
     "metadata": {},
     "output_type": "execute_result"
    }
   ],
   "source": [
    "y = np.arange(15)\n",
    "y.dtype"
   ]
  },
  {
   "cell_type": "code",
   "execution_count": 64,
   "id": "edde1172-4e2c-408e-82ad-ac289cc4eba9",
   "metadata": {},
   "outputs": [
    {
     "data": {
      "text/plain": [
       "array([ 3,  1,  2,  3,  4,  5,  6,  7,  8,  9, 10, 11, 12, 13, 14])"
      ]
     },
     "execution_count": 64,
     "metadata": {},
     "output_type": "execute_result"
    }
   ],
   "source": [
    "y[0]= 3.1314\n",
    "y"
   ]
  },
  {
   "cell_type": "code",
   "execution_count": 66,
   "id": "774368c4-c394-41a4-b9f4-6b8f1eebfc40",
   "metadata": {},
   "outputs": [
    {
     "data": {
      "text/plain": [
       "array([ 3.1314,  1.    ,  2.    ,  3.    ,  4.    ,  5.    ,  6.    ,\n",
       "        7.    ,  8.    ,  9.    , 10.    , 11.    , 12.    , 13.    ,\n",
       "       14.    ], dtype=float32)"
      ]
     },
     "execution_count": 66,
     "metadata": {},
     "output_type": "execute_result"
    }
   ],
   "source": [
    "# solucion\n",
    "y_f = np.array(y, dtype='float32')\n",
    "y_f[0]= 3.1314\n",
    "y_f"
   ]
  },
  {
   "cell_type": "code",
   "execution_count": null,
   "id": "8342955c-4e03-43cf-b31b-4d5447519142",
   "metadata": {},
   "outputs": [],
   "source": []
  }
 ],
 "metadata": {
  "kernelspec": {
   "display_name": "Python 3 (ipykernel)",
   "language": "python",
   "name": "python3"
  },
  "language_info": {
   "codemirror_mode": {
    "name": "ipython",
    "version": 3
   },
   "file_extension": ".py",
   "mimetype": "text/x-python",
   "name": "python",
   "nbconvert_exporter": "python",
   "pygments_lexer": "ipython3",
   "version": "3.11.11"
  }
 },
 "nbformat": 4,
 "nbformat_minor": 5
}
