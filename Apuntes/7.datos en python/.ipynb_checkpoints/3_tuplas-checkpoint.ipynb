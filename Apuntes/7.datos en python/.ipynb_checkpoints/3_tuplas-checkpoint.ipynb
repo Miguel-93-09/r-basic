{
 "cells": [
  {
   "cell_type": "markdown",
   "id": "a73b6c17-704c-4655-9e90-4e6fcd0b77cd",
   "metadata": {},
   "source": [
    "# tuplas\n",
    "\n",
    "son fijas, son practicas pro que se aumentan, son ligeras, no cargan uso de la ram"
   ]
  },
  {
   "cell_type": "code",
   "execution_count": 8,
   "id": "2a94e5f0-2b08-49d9-ab7c-02adb5b43cbf",
   "metadata": {},
   "outputs": [],
   "source": [
    "#declarar\n",
    "p1 = (1,) #necesita , para ser tupla\n",
    "p2 = (2,1)\n",
    "p3= (1,1,1)\n",
    "p4 = (1,2,'c', 3.14) #son heteros"
   ]
  },
  {
   "cell_type": "code",
   "execution_count": 9,
   "id": "e208404e-a8ff-4a76-b379-4d8c3add1148",
   "metadata": {},
   "outputs": [
    {
     "data": {
      "text/plain": [
       "(1, 'c')"
      ]
     },
     "execution_count": 9,
     "metadata": {},
     "output_type": "execute_result"
    }
   ],
   "source": [
    "#se recorren igual que una lista\n",
    "p4[::2]"
   ]
  },
  {
   "cell_type": "code",
   "execution_count": 10,
   "id": "f3b5900a-c951-4630-8b01-44e20334e810",
   "metadata": {},
   "outputs": [],
   "source": [
    "# desempaquetar, pueden \"descomprimirse\"\n",
    "a,b,c,d=p4"
   ]
  },
  {
   "cell_type": "code",
   "execution_count": 11,
   "id": "e8c215c1-b53a-42a7-b2a4-0da070d0ef54",
   "metadata": {},
   "outputs": [
    {
     "data": {
      "text/plain": [
       "1"
      ]
     },
     "execution_count": 11,
     "metadata": {},
     "output_type": "execute_result"
    }
   ],
   "source": [
    "a"
   ]
  },
  {
   "cell_type": "code",
   "execution_count": 12,
   "id": "7465f058-cbbd-4105-8373-a5fe14580bcc",
   "metadata": {},
   "outputs": [
    {
     "data": {
      "text/plain": [
       "2"
      ]
     },
     "execution_count": 12,
     "metadata": {},
     "output_type": "execute_result"
    }
   ],
   "source": [
    "b"
   ]
  },
  {
   "cell_type": "code",
   "execution_count": 13,
   "id": "95d0aaaa-9a1e-403a-8162-f6ef9df6af88",
   "metadata": {},
   "outputs": [
    {
     "data": {
      "text/plain": [
       "3.14"
      ]
     },
     "execution_count": 13,
     "metadata": {},
     "output_type": "execute_result"
    }
   ],
   "source": [
    "d"
   ]
  },
  {
   "cell_type": "code",
   "execution_count": 14,
   "id": "3dcf83d6-8df4-4e7f-900c-5ae5aa7221ec",
   "metadata": {},
   "outputs": [],
   "source": [
    "# para tomar solo ciertos elementos\n",
    "\n",
    "a,*_,b =p4"
   ]
  },
  {
   "cell_type": "code",
   "execution_count": 15,
   "id": "2e93d9aa-1596-4358-821e-0e9ea64904a4",
   "metadata": {},
   "outputs": [
    {
     "data": {
      "text/plain": [
       "1"
      ]
     },
     "execution_count": 15,
     "metadata": {},
     "output_type": "execute_result"
    }
   ],
   "source": [
    "a"
   ]
  },
  {
   "cell_type": "code",
   "execution_count": 16,
   "id": "3f6f533b-21fe-4b47-b28b-ff9540649cb8",
   "metadata": {},
   "outputs": [
    {
     "data": {
      "text/plain": [
       "3.14"
      ]
     },
     "execution_count": 16,
     "metadata": {},
     "output_type": "execute_result"
    }
   ],
   "source": [
    "b"
   ]
  },
  {
   "cell_type": "code",
   "execution_count": 17,
   "id": "49a9eb94-640c-4865-8d1a-af4ea4af9649",
   "metadata": {},
   "outputs": [
    {
     "data": {
      "text/plain": [
       "[1, 2, 'c', 3.14]"
      ]
     },
     "execution_count": 17,
     "metadata": {},
     "output_type": "execute_result"
    }
   ],
   "source": [
    "#se pueden convertir en listas directamente\n",
    "l1=list(p4)\n",
    "l1"
   ]
  },
  {
   "cell_type": "code",
   "execution_count": 18,
   "id": "7cb926b0-79d9-40f7-aae9-c5fcb883766f",
   "metadata": {},
   "outputs": [],
   "source": [
    "# y al reves\n",
    "t1=tuple(l1)"
   ]
  },
  {
   "cell_type": "code",
   "execution_count": 19,
   "id": "85dfc63a-df8f-4af6-a5fe-8f6ba5be606c",
   "metadata": {},
   "outputs": [
    {
     "data": {
      "text/plain": [
       "(1, 2, 'c', 3.14)"
      ]
     },
     "execution_count": 19,
     "metadata": {},
     "output_type": "execute_result"
    }
   ],
   "source": [
    "t1"
   ]
  },
  {
   "cell_type": "markdown",
   "id": "3a50c45d-5c62-4689-ae35-21117518f0c5",
   "metadata": {},
   "source": [
    "# funcion split"
   ]
  },
  {
   "cell_type": "code",
   "execution_count": 20,
   "id": "a1100e6d-efc7-403a-8a99-7d3de41a5fad",
   "metadata": {},
   "outputs": [
    {
     "data": {
      "text/plain": [
       "['hola', 'perro']"
      ]
     },
     "execution_count": 20,
     "metadata": {},
     "output_type": "execute_result"
    }
   ],
   "source": [
    "\"hola perro\".split(\" \") #por espacio en blanco, da lista "
   ]
  },
  {
   "cell_type": "markdown",
   "id": "791868ba-7dc7-44a5-bf5f-b4d2da56466c",
   "metadata": {},
   "source": [
    "# ejercicios"
   ]
  },
  {
   "cell_type": "code",
   "execution_count": 1,
   "id": "e0d91444-0a28-4100-ac5a-52380ba6e855",
   "metadata": {},
   "outputs": [
    {
     "name": "stdin",
     "output_type": "stream",
     "text": [
      "escribe numeros separados por coma: 2,3,4\n"
     ]
    },
    {
     "name": "stdout",
     "output_type": "stream",
     "text": [
      "('2', '3', '4')\n"
     ]
    }
   ],
   "source": [
    "entrada = input(\"escribe numeros separados por coma:\")\n",
    "numeross = tuple(entrada.split(\",\"))\n",
    "print(numeross)"
   ]
  },
  {
   "cell_type": "code",
   "execution_count": 2,
   "id": "f0d32523-8639-4b9e-b47a-17ca6d602a6d",
   "metadata": {},
   "outputs": [
    {
     "data": {
      "text/plain": [
       "[2, 3, 4]"
      ]
     },
     "execution_count": 2,
     "metadata": {},
     "output_type": "execute_result"
    }
   ],
   "source": [
    "#conviertiendo a numeros\n",
    "list=[]\n",
    "for i in numeross:\n",
    "    list.append(int(i))\n",
    "list"
   ]
  },
  {
   "cell_type": "code",
   "execution_count": 4,
   "id": "a329e2ed-ab21-4d3e-962a-1ef1e0bc6887",
   "metadata": {},
   "outputs": [
    {
     "name": "stdin",
     "output_type": "stream",
     "text": [
      "escribe numeros separados por coma: 2,3,4\n"
     ]
    },
    {
     "data": {
      "text/plain": [
       "[2, 3, 4]"
      ]
     },
     "execution_count": 4,
     "metadata": {},
     "output_type": "execute_result"
    }
   ],
   "source": [
    "# rapido\n",
    "entrada = input(\"escribe numeros separados por coma:\").split(\",\")\n",
    "list=[]\n",
    "for i in numeross:\n",
    "    list.append(int(i))\n",
    "list\n"
   ]
  },
  {
   "cell_type": "code",
   "execution_count": null,
   "id": "302024b3-778f-4800-a7e6-8d7a9cc19830",
   "metadata": {},
   "outputs": [],
   "source": []
  }
 ],
 "metadata": {
  "kernelspec": {
   "display_name": "Python 3 (ipykernel)",
   "language": "python",
   "name": "python3"
  },
  "language_info": {
   "codemirror_mode": {
    "name": "ipython",
    "version": 3
   },
   "file_extension": ".py",
   "mimetype": "text/x-python",
   "name": "python",
   "nbconvert_exporter": "python",
   "pygments_lexer": "ipython3",
   "version": "3.11.7"
  }
 },
 "nbformat": 4,
 "nbformat_minor": 5
}
