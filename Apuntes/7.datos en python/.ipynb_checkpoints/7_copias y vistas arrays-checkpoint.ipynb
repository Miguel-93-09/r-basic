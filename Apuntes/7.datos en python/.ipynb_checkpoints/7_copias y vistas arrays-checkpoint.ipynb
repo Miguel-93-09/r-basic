{
 "cells": [
  {
   "cell_type": "markdown",
   "id": "7558ecc9-914e-4955-9941-1577293124ae",
   "metadata": {},
   "source": [
    "# COPIA O VISTA\n",
    "\n",
    "## Asignacion, referencia"
   ]
  },
  {
   "cell_type": "code",
   "execution_count": 26,
   "id": "2f896f2a-3cc1-4c0b-95b4-2c77e3ba302b",
   "metadata": {},
   "outputs": [],
   "source": [
    "import numpy as np\n",
    "x = np.arange(10)\n",
    "y = x"
   ]
  },
  {
   "cell_type": "code",
   "execution_count": 27,
   "id": "ed9bb550-f97b-4dea-8690-37f0b59a2cdb",
   "metadata": {},
   "outputs": [
    {
     "data": {
      "text/plain": [
       "array([[0, 1, 2, 3, 4],\n",
       "       [5, 6, 7, 8, 9]])"
      ]
     },
     "execution_count": 27,
     "metadata": {},
     "output_type": "execute_result"
    }
   ],
   "source": [
    "#se ha creado una especie de copia, pero no son independientes, lo que pasa a una, pasa a la otra, y es solo una \"referencia\"\n",
    "y.shape=(2,5)\n",
    "y"
   ]
  },
  {
   "cell_type": "code",
   "execution_count": 28,
   "id": "1ce0bcd6-9ffa-4ca4-8887-4fb5d70470e9",
   "metadata": {},
   "outputs": [
    {
     "data": {
      "text/plain": [
       "array([[0, 1, 2, 3, 4],\n",
       "       [5, 6, 7, 8, 9]])"
      ]
     },
     "execution_count": 28,
     "metadata": {},
     "output_type": "execute_result"
    }
   ],
   "source": [
    "x"
   ]
  },
  {
   "cell_type": "markdown",
   "id": "0a24f24f-05d5-4e3c-b5a2-87bdfae26cb4",
   "metadata": {},
   "source": [
    "## COPIA"
   ]
  },
  {
   "cell_type": "code",
   "execution_count": 29,
   "id": "4c7ecab5-276f-4cb1-aca9-0a5bbbc55bd7",
   "metadata": {},
   "outputs": [],
   "source": [
    "z = x.copy()"
   ]
  },
  {
   "cell_type": "code",
   "execution_count": 30,
   "id": "184ada4f-f5e2-4bf5-97a9-dd4ddd29ee82",
   "metadata": {},
   "outputs": [
    {
     "data": {
      "text/plain": [
       "False"
      ]
     },
     "execution_count": 30,
     "metadata": {},
     "output_type": "execute_result"
    }
   ],
   "source": [
    "z is x"
   ]
  },
  {
   "cell_type": "code",
   "execution_count": 31,
   "id": "9f20f5e9-1da5-450a-8ed0-9e42a9d479d2",
   "metadata": {},
   "outputs": [
    {
     "data": {
      "text/plain": [
       "True"
      ]
     },
     "execution_count": 31,
     "metadata": {},
     "output_type": "execute_result"
    }
   ],
   "source": [
    "y is x"
   ]
  },
  {
   "cell_type": "code",
   "execution_count": 32,
   "id": "3a9d0d14-5a89-4e82-be44-b81decaf26f4",
   "metadata": {},
   "outputs": [],
   "source": [
    "# lo ultimo muestra que z una si es copia\n",
    "z.shape=(1,10)"
   ]
  },
  {
   "cell_type": "code",
   "execution_count": 51,
   "id": "498d3d39-d2f2-48f7-9e9e-c7466e72b3ef",
   "metadata": {},
   "outputs": [
    {
     "data": {
      "text/plain": [
       "array([[0, 1, 2, 3, 4, 5, 6, 7, 8, 9]])"
      ]
     },
     "execution_count": 51,
     "metadata": {},
     "output_type": "execute_result"
    }
   ],
   "source": [
    "z"
   ]
  },
  {
   "cell_type": "code",
   "execution_count": 52,
   "id": "725de5b1-dff6-47b8-955d-96c2be16fb3d",
   "metadata": {},
   "outputs": [
    {
     "data": {
      "text/plain": [
       "array([[66, 11, 11, 66, 66],\n",
       "       [ 5, 11, 11,  8,  9]])"
      ]
     },
     "execution_count": 52,
     "metadata": {},
     "output_type": "execute_result"
    }
   ],
   "source": [
    "x"
   ]
  },
  {
   "cell_type": "markdown",
   "id": "20d03b14-0bb8-4ce5-90cf-008c6b49b8e0",
   "metadata": {},
   "source": [
    "## Vista\n",
    "\n",
    "Es como un subconjunto del conjunto original, si se modifica un elemento de dicho subconjunto, se edita el orginal tambien. Pero todo lo que tiene que ver con vistas no se altera"
   ]
  },
  {
   "cell_type": "code",
   "execution_count": 35,
   "id": "587c4327-f287-48d1-a2a7-0c8df92400dd",
   "metadata": {},
   "outputs": [],
   "source": [
    "t = x.view()"
   ]
  },
  {
   "cell_type": "code",
   "execution_count": 36,
   "id": "1ba74291-4679-4201-833d-f8c0647ff492",
   "metadata": {},
   "outputs": [],
   "source": [
    "t.shape=(1,10)"
   ]
  },
  {
   "cell_type": "code",
   "execution_count": 37,
   "id": "6d19559e-f154-46ff-b591-a98014692d9d",
   "metadata": {},
   "outputs": [
    {
     "data": {
      "text/plain": [
       "array([[0, 1, 2, 3, 4, 5, 6, 7, 8, 9]])"
      ]
     },
     "execution_count": 37,
     "metadata": {},
     "output_type": "execute_result"
    }
   ],
   "source": [
    "t"
   ]
  },
  {
   "cell_type": "code",
   "execution_count": 38,
   "id": "b814e54b-43ad-4ede-89a8-943ed13d4649",
   "metadata": {},
   "outputs": [
    {
     "data": {
      "text/plain": [
       "array([[0, 1, 2, 3, 4],\n",
       "       [5, 6, 7, 8, 9]])"
      ]
     },
     "execution_count": 38,
     "metadata": {},
     "output_type": "execute_result"
    }
   ],
   "source": [
    "x"
   ]
  },
  {
   "cell_type": "code",
   "execution_count": 39,
   "id": "394d511a-3c36-4cce-8b68-f09b70c4a38d",
   "metadata": {},
   "outputs": [
    {
     "data": {
      "text/plain": [
       "array([0, 1, 2, 3, 4])"
      ]
     },
     "execution_count": 39,
     "metadata": {},
     "output_type": "execute_result"
    }
   ],
   "source": [
    "#por ejemplo, esto es una vista\n",
    "s = x[0]\n",
    "s"
   ]
  },
  {
   "cell_type": "code",
   "execution_count": 40,
   "id": "b604d418-06b1-4c41-9f05-a33a48e2d4d0",
   "metadata": {},
   "outputs": [],
   "source": [
    "# s = [1,2,3,4] esto es un error ya que estamos reasignado a s como lista ya no es una vista"
   ]
  },
  {
   "cell_type": "code",
   "execution_count": 41,
   "id": "09bb3686-791a-4b87-9ac0-e1492b5d10b2",
   "metadata": {},
   "outputs": [
    {
     "name": "stdout",
     "output_type": "stream",
     "text": [
      "[[66  2  1  1  1]\n",
      " [ 5  6  7  8  9]]\n"
     ]
    }
   ],
   "source": [
    "# para entender mejor, la vista es parte del dato original, si la misma se meodifica se modifica el ocnjunto, esto es\n",
    "s[:] = [66,2,1,1,1]\n",
    "print(x)\n",
    "s[:] = 66    # aqui si se emplea un valro simple no es necesario que coincida con la dimension"
   ]
  },
  {
   "cell_type": "code",
   "execution_count": 42,
   "id": "6eba3ec7-ac51-41ad-964b-32bd462e0f54",
   "metadata": {},
   "outputs": [
    {
     "data": {
      "text/plain": [
       "array([[66, 66, 66, 66, 66],\n",
       "       [ 5,  6,  7,  8,  9]])"
      ]
     },
     "execution_count": 42,
     "metadata": {},
     "output_type": "execute_result"
    }
   ],
   "source": [
    "x"
   ]
  },
  {
   "cell_type": "markdown",
   "id": "355bee3d-8e48-4c39-b4f0-f4110342cab1",
   "metadata": {},
   "source": [
    "### Importante\n",
    "Si se hace una asignacion directa, esto es, sin recorrido como\n",
    "\n",
    "s=1  \n",
    "\n",
    "entonces s deja de ser una vista y se reescribe, como variable, siempre es necesario que sea recorrido como\n",
    "s[:]=1\n",
    "\n",
    "nota importante, es importante que los recorrides sean solo con la forma :, ya que formas como\n",
    "\n",
    "u[:,[1,2]] no funcionan, esto deberia ser\n",
    "\n",
    "u[:,1:3]\n",
    "\n",
    "para que se reescriba efectivamente\n",
    "\n",
    "parece que u[:,[1,2]] no actua como vista sino como copia\n"
   ]
  },
  {
   "cell_type": "code",
   "execution_count": 43,
   "id": "7179b3c9-dd79-4f94-be5a-58a5f8a8a517",
   "metadata": {},
   "outputs": [
    {
     "data": {
      "text/plain": [
       "array([66,  7])"
      ]
     },
     "execution_count": 43,
     "metadata": {},
     "output_type": "execute_result"
    }
   ],
   "source": [
    "u = x[:,2]\n",
    "u"
   ]
  },
  {
   "cell_type": "code",
   "execution_count": 44,
   "id": "d9d5f211-1419-4909-a595-0ce3689fa147",
   "metadata": {},
   "outputs": [
    {
     "data": {
      "text/plain": [
       "array([2, 2])"
      ]
     },
     "execution_count": 44,
     "metadata": {},
     "output_type": "execute_result"
    }
   ],
   "source": [
    "u[:]=2\n",
    "u"
   ]
  },
  {
   "cell_type": "code",
   "execution_count": 45,
   "id": "badeaca1-ca67-447e-aa17-d7c30400cf98",
   "metadata": {},
   "outputs": [
    {
     "data": {
      "text/plain": [
       "array([[66, 66,  2, 66, 66],\n",
       "       [ 5,  6,  2,  8,  9]])"
      ]
     },
     "execution_count": 45,
     "metadata": {},
     "output_type": "execute_result"
    }
   ],
   "source": [
    "x"
   ]
  },
  {
   "cell_type": "code",
   "execution_count": 46,
   "id": "62947b6b-5404-4a0f-8ad8-54280198fa4a",
   "metadata": {},
   "outputs": [
    {
     "data": {
      "text/plain": [
       "array([[11, 11],\n",
       "       [11, 11]])"
      ]
     },
     "execution_count": 46,
     "metadata": {},
     "output_type": "execute_result"
    }
   ],
   "source": [
    "#otro ejemplo\n",
    "u = x[:,1:3]\n",
    "u[:] =  11\n",
    "u"
   ]
  },
  {
   "cell_type": "code",
   "execution_count": 47,
   "id": "378d90b0-1942-4935-8123-e7da42636a89",
   "metadata": {},
   "outputs": [
    {
     "data": {
      "text/plain": [
       "array([[66, 11, 11, 66, 66],\n",
       "       [ 5, 11, 11,  8,  9]])"
      ]
     },
     "execution_count": 47,
     "metadata": {},
     "output_type": "execute_result"
    }
   ],
   "source": [
    "x"
   ]
  },
  {
   "cell_type": "code",
   "execution_count": 48,
   "id": "588d53d6-5d76-4dff-b334-9d4006fff8b5",
   "metadata": {},
   "outputs": [
    {
     "name": "stdout",
     "output_type": "stream",
     "text": [
      "[[11 11]\n",
      " [11 11]]\n"
     ]
    }
   ],
   "source": [
    "u = x[:,[1,2]]  # en este momento u dejo de ser vista para ser copia\n",
    "print(u)\n",
    "u[:] = [1]"
   ]
  },
  {
   "cell_type": "code",
   "execution_count": 49,
   "id": "7aaca50a-1fbd-4c32-81cb-16f5c4297a93",
   "metadata": {},
   "outputs": [
    {
     "data": {
      "text/plain": [
       "array([[1, 1],\n",
       "       [1, 1]])"
      ]
     },
     "execution_count": 49,
     "metadata": {},
     "output_type": "execute_result"
    }
   ],
   "source": [
    "u"
   ]
  },
  {
   "cell_type": "code",
   "execution_count": 50,
   "id": "0d7291b7-ed34-4408-b0ab-42e62614a23e",
   "metadata": {},
   "outputs": [
    {
     "data": {
      "text/plain": [
       "array([[66, 11, 11, 66, 66],\n",
       "       [ 5, 11, 11,  8,  9]])"
      ]
     },
     "execution_count": 50,
     "metadata": {},
     "output_type": "execute_result"
    }
   ],
   "source": [
    "x"
   ]
  },
  {
   "cell_type": "code",
   "execution_count": null,
   "id": "4fd4a8da-c927-4d96-b486-1aac7075819c",
   "metadata": {},
   "outputs": [],
   "source": []
  }
 ],
 "metadata": {
  "kernelspec": {
   "display_name": "Python 3 (ipykernel)",
   "language": "python",
   "name": "python3"
  },
  "language_info": {
   "codemirror_mode": {
    "name": "ipython",
    "version": 3
   },
   "file_extension": ".py",
   "mimetype": "text/x-python",
   "name": "python",
   "nbconvert_exporter": "python",
   "pygments_lexer": "ipython3",
   "version": "3.13.5"
  }
 },
 "nbformat": 4,
 "nbformat_minor": 5
}
