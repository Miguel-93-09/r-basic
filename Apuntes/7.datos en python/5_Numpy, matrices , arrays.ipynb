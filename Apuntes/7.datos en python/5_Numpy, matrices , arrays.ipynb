{
 "cells": [
  {
   "cell_type": "markdown",
   "id": "e5847a36-ba6e-4103-9bbc-c8f9871ec988",
   "metadata": {},
   "source": [
    "# Numpy"
   ]
  },
  {
   "cell_type": "code",
   "execution_count": 1,
   "id": "de3fc356-af3e-4e2f-9779-09c60343fd57",
   "metadata": {},
   "outputs": [],
   "source": [
    "#para importar la libreria\n",
    "import numpy as np\n",
    "\n",
    "#otra forma de importar sin utilizar np, es hacer\n",
    "# from numpy import *\n",
    "\n",
    "#pero esto crea confusion con funciones de otras librerias\n"
   ]
  },
  {
   "cell_type": "code",
   "execution_count": 2,
   "id": "5ab81ca2-3fe7-4bf7-b05c-571ec282e37d",
   "metadata": {},
   "outputs": [
    {
     "data": {
      "text/plain": [
       "array([1, 2, 3, 4, 5, 6, 7, 8, 9])"
      ]
     },
     "execution_count": 2,
     "metadata": {},
     "output_type": "execute_result"
    }
   ],
   "source": [
    "L1 = [1,2,3,4,5,6,7,8,9]\n",
    "\n",
    "#Creamos np desde una lista\n",
    "N_1 = np.array(L1)\n",
    "N_1"
   ]
  },
  {
   "cell_type": "code",
   "execution_count": 3,
   "id": "9dbdb3e2-71e1-4eaa-a851-cf83add54f1c",
   "metadata": {},
   "outputs": [
    {
     "data": {
      "text/plain": [
       "array([1., 2., 3., 4., 5., 6., 7., 8., 9.], dtype=float32)"
      ]
     },
     "execution_count": 3,
     "metadata": {},
     "output_type": "execute_result"
    }
   ],
   "source": [
    "#Se puede cambiar el tipo de dato, por ejemplo\n",
    "N_2 = np.array(L1, dtype='float32')\n",
    "N_2"
   ]
  },
  {
   "cell_type": "markdown",
   "id": "6230f207-abdd-4db4-81b7-c4d9565f6bb6",
   "metadata": {},
   "source": [
    "los tipos son\n",
    "\n",
    "- bool_\n",
    "- int_ , intc, intp (indexar) , int8, int16, int32, int64\n",
    "- uint8,.... (son enteros sin signos)\n",
    "- float_ (media precision),float32(normal), float64(precision)\n",
    "- complex_ (equiv a 16),complex64 (32), complex128 (64) , una parte es imaginaria y otra real\n",
    "\n",
    "# Crear matrices"
   ]
  },
  {
   "cell_type": "code",
   "execution_count": 4,
   "id": "340de0ee-3f19-4f6e-b21b-81496067058e",
   "metadata": {},
   "outputs": [
    {
     "data": {
      "text/plain": [
       "array([[0., 0., 0., 0.],\n",
       "       [0., 0., 0., 0.],\n",
       "       [0., 0., 0., 0.]])"
      ]
     },
     "execution_count": 4,
     "metadata": {},
     "output_type": "execute_result"
    }
   ],
   "source": [
    "np.zeros((3,4))"
   ]
  },
  {
   "cell_type": "code",
   "execution_count": 5,
   "id": "e28de344-b15d-4032-b387-662fecd05a7f",
   "metadata": {},
   "outputs": [
    {
     "data": {
      "text/plain": [
       "array([[1., 1., 1., 1.],\n",
       "       [1., 1., 1., 1.],\n",
       "       [1., 1., 1., 1.]])"
      ]
     },
     "execution_count": 5,
     "metadata": {},
     "output_type": "execute_result"
    }
   ],
   "source": [
    "np.ones((3,4))"
   ]
  },
  {
   "cell_type": "code",
   "execution_count": 6,
   "id": "981be243-7a5d-48a9-9396-25dc93db09bc",
   "metadata": {},
   "outputs": [
    {
     "data": {
      "text/plain": [
       "array([0, 1, 2, 3, 4, 5, 6, 7, 8, 9])"
      ]
     },
     "execution_count": 6,
     "metadata": {},
     "output_type": "execute_result"
    }
   ],
   "source": [
    "np.arange(10)"
   ]
  },
  {
   "cell_type": "code",
   "execution_count": 7,
   "id": "11d477d4-2b3e-42c9-8fa6-8125d01ee45d",
   "metadata": {},
   "outputs": [
    {
     "data": {
      "text/plain": [
       "array([ 3.,  4.,  5.,  6.,  7.,  8.,  9., 10., 11.])"
      ]
     },
     "execution_count": 7,
     "metadata": {},
     "output_type": "execute_result"
    }
   ],
   "source": [
    "np.arange(3,12,dtype=\"float64\")"
   ]
  },
  {
   "cell_type": "code",
   "execution_count": 8,
   "id": "368094c0-d0a5-4431-86b1-c3f1de0ee2d1",
   "metadata": {},
   "outputs": [
    {
     "data": {
      "text/plain": [
       "array([ 3. ,  3.1,  3.2,  3.3,  3.4,  3.5,  3.6,  3.7,  3.8,  3.9,  4. ,\n",
       "        4.1,  4.2,  4.3,  4.4,  4.5,  4.6,  4.7,  4.8,  4.9,  5. ,  5.1,\n",
       "        5.2,  5.3,  5.4,  5.5,  5.6,  5.7,  5.8,  5.9,  6. ,  6.1,  6.2,\n",
       "        6.3,  6.4,  6.5,  6.6,  6.7,  6.8,  6.9,  7. ,  7.1,  7.2,  7.3,\n",
       "        7.4,  7.5,  7.6,  7.7,  7.8,  7.9,  8. ,  8.1,  8.2,  8.3,  8.4,\n",
       "        8.5,  8.6,  8.7,  8.8,  8.9,  9. ,  9.1,  9.2,  9.3,  9.4,  9.5,\n",
       "        9.6,  9.7,  9.8,  9.9, 10. , 10.1, 10.2, 10.3, 10.4, 10.5, 10.6,\n",
       "       10.7, 10.8, 10.9, 11. , 11.1, 11.2, 11.3, 11.4, 11.5, 11.6, 11.7,\n",
       "       11.8, 11.9])"
      ]
     },
     "execution_count": 8,
     "metadata": {},
     "output_type": "execute_result"
    }
   ],
   "source": [
    "# por pasos de un tamaño dado parecido a a:b:c\n",
    "\n",
    "np.arange(3,12,0.1)"
   ]
  },
  {
   "cell_type": "code",
   "execution_count": 9,
   "id": "4ef991aa-d656-47d6-b28e-187be884816c",
   "metadata": {},
   "outputs": [
    {
     "data": {
      "text/plain": [
       "array([1.        , 1.11111111, 1.22222222, 1.33333333, 1.44444444,\n",
       "       1.55555556, 1.66666667, 1.77777778, 1.88888889, 2.        ])"
      ]
     },
     "execution_count": 9,
     "metadata": {},
     "output_type": "execute_result"
    }
   ],
   "source": [
    " # para dar determinado numero de pasos en un intervalo, NOTA: este si incluye hasta el ultimo aunque se puede modificar con parametros\n",
    "np.linspace(1,2,10)"
   ]
  },
  {
   "cell_type": "code",
   "execution_count": 10,
   "id": "69b9843b-aa95-43c9-b2c4-e9f58c6b8f86",
   "metadata": {},
   "outputs": [
    {
     "data": {
      "text/plain": [
       "array([[1., 0., 0.],\n",
       "       [0., 1., 0.],\n",
       "       [0., 0., 1.]])"
      ]
     },
     "execution_count": 10,
     "metadata": {},
     "output_type": "execute_result"
    }
   ],
   "source": [
    "# matriz identidad tamaño n\n",
    "np.eye(3)"
   ]
  },
  {
   "cell_type": "markdown",
   "id": "84a0a56c-12d3-4378-877e-d03c452fbcad",
   "metadata": {},
   "source": [
    "# Redimensionar "
   ]
  },
  {
   "cell_type": "code",
   "execution_count": 11,
   "id": "a0fff875-5564-45c5-8502-2df46fe5b8c3",
   "metadata": {},
   "outputs": [
    {
     "data": {
      "text/plain": [
       "array([[0., 0., 0.],\n",
       "       [0., 0., 0.],\n",
       "       [0., 0., 0.],\n",
       "       [0., 0., 0.],\n",
       "       [0., 0., 0.],\n",
       "       [0., 0., 0.],\n",
       "       [0., 0., 0.],\n",
       "       [0., 0., 0.]])"
      ]
     },
     "execution_count": 11,
     "metadata": {},
     "output_type": "execute_result"
    }
   ],
   "source": [
    "x=np.zeros((8,3))\n",
    "x\n"
   ]
  },
  {
   "cell_type": "code",
   "execution_count": 14,
   "id": "790ff3ad-d0af-4826-aef6-6ceb45f98b8c",
   "metadata": {},
   "outputs": [
    {
     "data": {
      "text/plain": [
       "array([[0., 0., 0., 0.],\n",
       "       [0., 0., 0., 0.],\n",
       "       [0., 0., 0., 0.],\n",
       "       [0., 0., 0., 0.],\n",
       "       [0., 0., 0., 0.],\n",
       "       [0., 0., 0., 0.]])"
      ]
     },
     "execution_count": 14,
     "metadata": {},
     "output_type": "execute_result"
    }
   ],
   "source": [
    "x.reshape((6,4))"
   ]
  },
  {
   "cell_type": "code",
   "execution_count": 15,
   "id": "f272e850-4370-4abb-ad6b-a97838ccfc85",
   "metadata": {},
   "outputs": [
    {
     "data": {
      "text/plain": [
       "array([[0., 0., 0.],\n",
       "       [0., 0., 0.],\n",
       "       [0., 0., 0.],\n",
       "       [0., 0., 0.],\n",
       "       [0., 0., 0.],\n",
       "       [0., 0., 0.],\n",
       "       [0., 0., 0.],\n",
       "       [0., 0., 0.]])"
      ]
     },
     "execution_count": 15,
     "metadata": {},
     "output_type": "execute_result"
    }
   ],
   "source": [
    "x  #conserva forma"
   ]
  },
  {
   "cell_type": "code",
   "execution_count": 16,
   "id": "283c2cdf-9bc8-4313-ad63-f5d0c672b34d",
   "metadata": {},
   "outputs": [],
   "source": [
    "xs=np.arange(24)"
   ]
  },
  {
   "cell_type": "code",
   "execution_count": 17,
   "id": "8b752bc5-34d8-415f-b94f-a9fcf00f078d",
   "metadata": {},
   "outputs": [
    {
     "data": {
      "text/plain": [
       "array([[ 0,  1,  2,  3,  4,  5,  6,  7],\n",
       "       [ 8,  9, 10, 11, 12, 13, 14, 15],\n",
       "       [16, 17, 18, 19, 20, 21, 22, 23]])"
      ]
     },
     "execution_count": 17,
     "metadata": {},
     "output_type": "execute_result"
    }
   ],
   "source": [
    "xs.reshape((3,8))  "
   ]
  },
  {
   "cell_type": "code",
   "execution_count": 18,
   "id": "57adfc04-54b5-4117-bee9-7fc9c8053f40",
   "metadata": {},
   "outputs": [
    {
     "data": {
      "text/plain": [
       "array([ 0,  1,  2,  3,  4,  5,  6,  7,  8,  9, 10, 11, 12, 13, 14, 15, 16,\n",
       "       17, 18, 19, 20, 21, 22, 23])"
      ]
     },
     "execution_count": 18,
     "metadata": {},
     "output_type": "execute_result"
    }
   ],
   "source": [
    "xs   #no modifica la forma original de xs"
   ]
  },
  {
   "cell_type": "code",
   "execution_count": 19,
   "id": "004e5f49-d470-4d67-b0f6-c1500d24ff97",
   "metadata": {},
   "outputs": [
    {
     "data": {
      "text/plain": [
       "array([[1, 2, 3, 4],\n",
       "       [5, 6, 7, 8]])"
      ]
     },
     "execution_count": 19,
     "metadata": {},
     "output_type": "execute_result"
    }
   ],
   "source": [
    "# para aplanar, otra forma de crear matriz, se supone que altera original\n",
    "matriz = np.array([[1,2,3,4],[5,6,7,8]])\n",
    "matriz"
   ]
  },
  {
   "cell_type": "code",
   "execution_count": 20,
   "id": "8488a447-b366-4724-bd65-1fdf18ae6646",
   "metadata": {},
   "outputs": [
    {
     "data": {
      "text/plain": [
       "array([1, 2, 3, 4, 5, 6, 7, 8])"
      ]
     },
     "execution_count": 20,
     "metadata": {},
     "output_type": "execute_result"
    }
   ],
   "source": [
    "np.ravel(matriz)"
   ]
  },
  {
   "cell_type": "code",
   "execution_count": 21,
   "id": "015f978f-f90c-43d4-992b-e5ef4acd0965",
   "metadata": {},
   "outputs": [
    {
     "data": {
      "text/plain": [
       "array([[1, 2, 3, 4],\n",
       "       [5, 6, 7, 8]])"
      ]
     },
     "execution_count": 21,
     "metadata": {},
     "output_type": "execute_result"
    }
   ],
   "source": [
    "matriz  # pero no paso nada"
   ]
  },
  {
   "cell_type": "code",
   "execution_count": 22,
   "id": "fb568868-5467-47dd-8fee-630c4e953090",
   "metadata": {},
   "outputs": [
    {
     "data": {
      "text/plain": [
       "array([1, 2, 3, 4, 5, 6, 7, 8])"
      ]
     },
     "execution_count": 22,
     "metadata": {},
     "output_type": "execute_result"
    }
   ],
   "source": [
    "#es igual pero una copia de la matriz, supuestamente\n",
    "matriz.flatten()"
   ]
  },
  {
   "cell_type": "code",
   "execution_count": 23,
   "id": "ceb26ea0-cf31-43d2-a0d8-12d5eef825ac",
   "metadata": {},
   "outputs": [
    {
     "data": {
      "text/plain": [
       "array([[1, 2, 3, 4],\n",
       "       [5, 6, 7, 8]])"
      ]
     },
     "execution_count": 23,
     "metadata": {},
     "output_type": "execute_result"
    }
   ],
   "source": [
    "matriz"
   ]
  },
  {
   "cell_type": "code",
   "execution_count": 24,
   "id": "a20a1195-80f2-4555-9edc-471275e1edd0",
   "metadata": {},
   "outputs": [
    {
     "data": {
      "text/plain": [
       "array([[1, 5],\n",
       "       [2, 6],\n",
       "       [3, 7],\n",
       "       [4, 8]])"
      ]
     },
     "execution_count": 24,
     "metadata": {},
     "output_type": "execute_result"
    }
   ],
   "source": [
    "#transponer\n",
    "np.transpose(matriz)"
   ]
  },
  {
   "cell_type": "code",
   "execution_count": 25,
   "id": "fb6d4038-672f-47d5-a0c7-b7154203fef5",
   "metadata": {},
   "outputs": [
    {
     "data": {
      "text/plain": [
       "array([[1, 2, 3, 4],\n",
       "       [5, 6, 7, 8]])"
      ]
     },
     "execution_count": 25,
     "metadata": {},
     "output_type": "execute_result"
    }
   ],
   "source": [
    "matriz #sigue sin afectar"
   ]
  },
  {
   "cell_type": "code",
   "execution_count": 27,
   "id": "b7a9f71d-14af-4e24-a0e3-afb0488175fe",
   "metadata": {},
   "outputs": [
    {
     "data": {
      "text/plain": [
       "array([[1, 2],\n",
       "       [3, 4],\n",
       "       [5, 6],\n",
       "       [7, 8],\n",
       "       [1, 2]])"
      ]
     },
     "execution_count": 27,
     "metadata": {},
     "output_type": "execute_result"
    }
   ],
   "source": [
    "#redimensionar, crea con dimension especifica, como le faltan en el siguiente caso, rellena repitiendo\n",
    "np.resize(matriz,(5,2))\n"
   ]
  },
  {
   "cell_type": "code",
   "execution_count": 28,
   "id": "4b5e3e28-1f10-48dc-9d71-e1217e86badf",
   "metadata": {},
   "outputs": [
    {
     "data": {
      "text/plain": [
       "array([[1, 2, 3, 4],\n",
       "       [5, 6, 7, 8]])"
      ]
     },
     "execution_count": 28,
     "metadata": {},
     "output_type": "execute_result"
    }
   ],
   "source": [
    "matriz   #por lo visto na"
   ]
  },
  {
   "cell_type": "markdown",
   "id": "bcc8f4fb-0958-43b9-98c6-6afde0e86750",
   "metadata": {},
   "source": [
    "# ejercicios"
   ]
  },
  {
   "cell_type": "code",
   "execution_count": 3,
   "id": "6f2e64ba-b5f6-422b-9c96-1acdb843040d",
   "metadata": {
    "scrolled": true
   },
   "outputs": [
    {
     "data": {
      "text/plain": [
       "array([  5,   6,   7,   8,   9,  10,  11,  12,  13,  14,  15,  16,  17,\n",
       "        18,  19,  20,  21,  22,  23,  24,  25,  26,  27,  28,  29,  30,\n",
       "        31,  32,  33,  34,  35,  36,  37,  38,  39,  40,  41,  42,  43,\n",
       "        44,  45,  46,  47,  48,  49,  50,  51,  52,  53,  54,  55,  56,\n",
       "        57,  58,  59,  60,  61,  62,  63,  64,  65,  66,  67,  68,  69,\n",
       "        70,  71,  72,  73,  74,  75,  76,  77,  78,  79,  80,  81,  82,\n",
       "        83,  84,  85,  86,  87,  88,  89,  90,  91,  92,  93,  94,  95,\n",
       "        96,  97,  98,  99, 100, 101, 102, 103, 104, 105, 106, 107, 108,\n",
       "       109, 110, 111, 112, 113, 114, 115, 116, 117, 118, 119, 120])"
      ]
     },
     "execution_count": 3,
     "metadata": {},
     "output_type": "execute_result"
    }
   ],
   "source": [
    "np.arange(5,121)"
   ]
  },
  {
   "cell_type": "code",
   "execution_count": 4,
   "id": "d832a197-d95f-49d1-a9f6-36f5a054f86d",
   "metadata": {},
   "outputs": [
    {
     "data": {
      "text/plain": [
       "array([[ 0,  1,  2,  3],\n",
       "       [ 4,  5,  6,  7],\n",
       "       [ 8,  9, 10, 11],\n",
       "       [12, 13, 14, 15]])"
      ]
     },
     "execution_count": 4,
     "metadata": {},
     "output_type": "execute_result"
    }
   ],
   "source": [
    "M_1 = np.arange(0,16)\n",
    "M_2 = np.resize(M_1,(4,4))\n",
    "M_2"
   ]
  },
  {
   "cell_type": "code",
   "execution_count": 5,
   "id": "558a4f63-25a4-439a-8d35-92b2d9c961c9",
   "metadata": {},
   "outputs": [
    {
     "data": {
      "text/plain": [
       "array([[ 0,  1,  2,  3],\n",
       "       [ 4,  5,  6,  7],\n",
       "       [ 8,  9, 10, 11],\n",
       "       [12, 13, 14, 15]])"
      ]
     },
     "execution_count": 5,
     "metadata": {},
     "output_type": "execute_result"
    }
   ],
   "source": [
    "#prueba alternativa\n",
    "np.resize(np.arange(0,16),(4,4))"
   ]
  },
  {
   "cell_type": "code",
   "execution_count": 6,
   "id": "16e3145c-c13d-4151-9b38-f6d1340ec5dd",
   "metadata": {},
   "outputs": [
    {
     "data": {
      "text/plain": [
       "array([[1., 0., 0., 0., 0., 0., 0.],\n",
       "       [0., 1., 0., 0., 0., 0., 0.],\n",
       "       [0., 0., 1., 0., 0., 0., 0.],\n",
       "       [0., 0., 0., 1., 0., 0., 0.],\n",
       "       [0., 0., 0., 0., 1., 0., 0.],\n",
       "       [0., 0., 0., 0., 0., 1., 0.],\n",
       "       [0., 0., 0., 0., 0., 0., 1.]])"
      ]
     },
     "execution_count": 6,
     "metadata": {},
     "output_type": "execute_result"
    }
   ],
   "source": [
    "np.eye(7)"
   ]
  },
  {
   "cell_type": "code",
   "execution_count": 7,
   "id": "e1a0a8d1-d511-4f2a-8a28-cd64fd7b4ba2",
   "metadata": {},
   "outputs": [
    {
     "data": {
      "text/plain": [
       "array([0.        , 0.26315789, 0.52631579, 0.78947368, 1.05263158,\n",
       "       1.31578947, 1.57894737, 1.84210526, 2.10526316, 2.36842105,\n",
       "       2.63157895, 2.89473684, 3.15789474, 3.42105263, 3.68421053,\n",
       "       3.94736842, 4.21052632, 4.47368421, 4.73684211, 5.        ])"
      ]
     },
     "execution_count": 7,
     "metadata": {},
     "output_type": "execute_result"
    }
   ],
   "source": [
    " np.linspace(0,5,20)"
   ]
  },
  {
   "cell_type": "code",
   "execution_count": null,
   "id": "539ca63b-153f-4cab-b45d-08f1ca2bff78",
   "metadata": {},
   "outputs": [],
   "source": []
  },
  {
   "cell_type": "code",
   "execution_count": 8,
   "id": "37fd4050-2cc9-4119-978f-78a30cd9bcc0",
   "metadata": {},
   "outputs": [
    {
     "data": {
      "text/plain": [
       "array([[1.        , 1.21052632, 1.42105263, 1.63157895],\n",
       "       [1.84210526, 2.05263158, 2.26315789, 2.47368421],\n",
       "       [2.68421053, 2.89473684, 3.10526316, 3.31578947],\n",
       "       [3.52631579, 3.73684211, 3.94736842, 4.15789474],\n",
       "       [4.36842105, 4.57894737, 4.78947368, 5.        ]])"
      ]
     },
     "execution_count": 8,
     "metadata": {},
     "output_type": "execute_result"
    }
   ],
   "source": [
    "np.linspace(1,5,20).reshape((5,4))"
   ]
  },
  {
   "cell_type": "code",
   "execution_count": null,
   "id": "debab957-bab5-4c0e-ae3c-00f7ffe7cb03",
   "metadata": {},
   "outputs": [],
   "source": []
  }
 ],
 "metadata": {
  "kernelspec": {
   "display_name": "Python 3 (ipykernel)",
   "language": "python",
   "name": "python3"
  },
  "language_info": {
   "codemirror_mode": {
    "name": "ipython",
    "version": 3
   },
   "file_extension": ".py",
   "mimetype": "text/x-python",
   "name": "python",
   "nbconvert_exporter": "python",
   "pygments_lexer": "ipython3",
   "version": "3.11.11"
  }
 },
 "nbformat": 4,
 "nbformat_minor": 5
}
