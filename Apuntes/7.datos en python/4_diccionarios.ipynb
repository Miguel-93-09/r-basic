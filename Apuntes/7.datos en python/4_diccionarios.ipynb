{
 "cells": [
  {
   "cell_type": "markdown",
   "id": "ea43dff0-abc4-4427-977b-b4932fc0c817",
   "metadata": {},
   "source": [
    "# Diccionarios\n",
    "\n",
    "Colección no ordenada de valores asociados; claves <-> valores.  No se indexa por posición sino empleando las claves."
   ]
  },
  {
   "cell_type": "markdown",
   "id": "efacb852-97ce-4cb2-99e4-3d8407c121cb",
   "metadata": {},
   "source": [
    "## place holder\n",
    "\n",
    "Se utilizan para sustituir dentro de un print, un valor variable generalmente, por un valor determinado\n"
   ]
  },
  {
   "cell_type": "code",
   "execution_count": 1,
   "id": "c5206ea2-eacd-4122-8041-56ffedd3b058",
   "metadata": {},
   "outputs": [
    {
     "name": "stdout",
     "output_type": "stream",
     "text": [
      "Hola Juan\n"
     ]
    }
   ],
   "source": [
    "#para cadenas %s\n",
    "nombre = \"Juan\"\n",
    "print('Hola %s' %nombre)"
   ]
  },
  {
   "cell_type": "code",
   "execution_count": 2,
   "id": "adff7185-58a7-4ff3-98bc-cbae737c7b90",
   "metadata": {},
   "outputs": [
    {
     "name": "stdout",
     "output_type": "stream",
     "text": [
      "lista [2, 3, 5, 7, 11, 13]\n"
     ]
    }
   ],
   "source": [
    "primos = [2,3,5,7,11,13]\n",
    "print('lista %s' %primos)"
   ]
  },
  {
   "cell_type": "code",
   "execution_count": 3,
   "id": "1f5cfbf4-57ad-4c17-b39f-7c38d96303b4",
   "metadata": {},
   "outputs": [
    {
     "name": "stdout",
     "output_type": "stream",
     "text": [
      "suma: 41\n"
     ]
    }
   ],
   "source": [
    "# para entero $d\n",
    "a = sum(primos)\n",
    "print('suma: %d' %a)"
   ]
  },
  {
   "cell_type": "code",
   "execution_count": 4,
   "id": "aaa3f23b-d8dd-4b08-b8a4-3711d87f87ad",
   "metadata": {},
   "outputs": [
    {
     "name": "stdout",
     "output_type": "stream",
     "text": [
      "media : 6.833\n"
     ]
    }
   ],
   "source": [
    "# decimal $f , además para mostrar numero dado de decimates $.2f son 2 decimales\n",
    "media = a/len(primos)\n",
    "print('media : %.3f' %media)"
   ]
  },
  {
   "cell_type": "code",
   "execution_count": 5,
   "id": "4a00cc11-f7ba-44da-952a-d77ebd70958b",
   "metadata": {},
   "outputs": [
    {
     "name": "stdout",
     "output_type": "stream",
     "text": [
      "media:6.833 ; suma:41\n"
     ]
    }
   ],
   "source": [
    "# varios\n",
    "print('media:%.3f ; suma:%d' %(media,a))\n"
   ]
  },
  {
   "cell_type": "markdown",
   "id": "77e97fc9-6ca5-49c5-ad88-f8e2ee9d0304",
   "metadata": {},
   "source": [
    "## Como definir un diccionario"
   ]
  },
  {
   "cell_type": "code",
   "execution_count": 6,
   "id": "2fa12e90-7e10-4159-a642-9798eb18d7e1",
   "metadata": {},
   "outputs": [],
   "source": [
    "edad = {\"juanga\":30, \n",
    "        \"maria\":54 , \n",
    "        \"paco\":23}\n"
   ]
  },
  {
   "cell_type": "code",
   "execution_count": 7,
   "id": "3d0dd5f7-b54d-4a5f-af5b-513f15f38204",
   "metadata": {},
   "outputs": [
    {
     "name": "stdout",
     "output_type": "stream",
     "text": [
      "30\n",
      "54\n",
      "23\n"
     ]
    }
   ],
   "source": [
    "#se accede a datos por el nombre de clave\n",
    "\n",
    "for i in edad:\n",
    "    print(edad[i])\n",
    "    \n"
   ]
  },
  {
   "cell_type": "code",
   "execution_count": 8,
   "id": "a97dc319-017e-416e-bbe3-95f1cbc44b57",
   "metadata": {},
   "outputs": [
    {
     "name": "stdout",
     "output_type": "stream",
     "text": [
      "30\n",
      "54\n",
      "10\n"
     ]
    }
   ],
   "source": [
    "#sobreescribiendo\n",
    "edad[\"paco\"]=10\n",
    "for i in edad:\n",
    "    print(edad[i])"
   ]
  },
  {
   "cell_type": "code",
   "execution_count": 9,
   "id": "00687904-a569-4677-8419-41c1e3fb88d6",
   "metadata": {},
   "outputs": [
    {
     "data": {
      "text/plain": [
       "3"
      ]
     },
     "execution_count": 9,
     "metadata": {},
     "output_type": "execute_result"
    }
   ],
   "source": [
    "#dimesion dieccionario\n",
    "len(edad)"
   ]
  },
  {
   "cell_type": "code",
   "execution_count": 10,
   "id": "9f1fc368-2932-4b8f-a974-01f9f396bbfc",
   "metadata": {},
   "outputs": [
    {
     "data": {
      "text/plain": [
       "dict_keys(['juanga', 'maria', 'paco'])"
      ]
     },
     "execution_count": 10,
     "metadata": {},
     "output_type": "execute_result"
    }
   ],
   "source": [
    "#todas claves\n",
    "edad.keys()"
   ]
  },
  {
   "cell_type": "code",
   "execution_count": 11,
   "id": "94b5e40f-ffee-445e-9aeb-8fd7ecc5ef7b",
   "metadata": {},
   "outputs": [
    {
     "data": {
      "text/plain": [
       "dict_values([30, 54, 10])"
      ]
     },
     "execution_count": 11,
     "metadata": {},
     "output_type": "execute_result"
    }
   ],
   "source": [
    "#todos valores\n",
    "edad.values()"
   ]
  },
  {
   "cell_type": "code",
   "execution_count": 12,
   "id": "ebc1cf1c-da94-4e80-9ddb-79beea7aec88",
   "metadata": {},
   "outputs": [
    {
     "data": {
      "text/plain": [
       "True"
      ]
     },
     "execution_count": 12,
     "metadata": {},
     "output_type": "execute_result"
    }
   ],
   "source": [
    "# consultar si una clave esta en diccionario\n",
    "\"paco\" in edad"
   ]
  },
  {
   "cell_type": "code",
   "execution_count": 13,
   "id": "7387635a-3842-4e9a-a366-4b9b2949dc1c",
   "metadata": {},
   "outputs": [
    {
     "data": {
      "text/plain": [
       "False"
      ]
     },
     "execution_count": 13,
     "metadata": {},
     "output_type": "execute_result"
    }
   ],
   "source": [
    "\"ñañi\" in edad"
   ]
  },
  {
   "cell_type": "code",
   "execution_count": 14,
   "id": "763c4752-ac03-44f6-b28b-775db5fe236c",
   "metadata": {},
   "outputs": [
    {
     "data": {
      "text/plain": [
       "{'juanga': 30, 'maria': 54}"
      ]
     },
     "execution_count": 14,
     "metadata": {},
     "output_type": "execute_result"
    }
   ],
   "source": [
    "#borrar elemento con clave\n",
    "del edad[\"paco\"]\n",
    "edad"
   ]
  },
  {
   "cell_type": "markdown",
   "id": "0ab18532-d874-4e4e-bc6c-26dbf6fca0ed",
   "metadata": {},
   "source": [
    "## ejercicio propio inviertiendo claves y valores"
   ]
  },
  {
   "cell_type": "code",
   "execution_count": 20,
   "id": "99742075-9c87-42fd-849d-a2f961dd10aa",
   "metadata": {},
   "outputs": [
    {
     "name": "stdout",
     "output_type": "stream",
     "text": [
      "juanga\n",
      "maria\n"
     ]
    }
   ],
   "source": [
    "for i in edad:\n",
    "    print(i)"
   ]
  },
  {
   "cell_type": "code",
   "execution_count": 21,
   "id": "fb990a2c-e551-49a7-a623-5eab6e0827c6",
   "metadata": {},
   "outputs": [
    {
     "data": {
      "text/plain": [
       "[(30, 'juanga'), (54, 'maria')]"
      ]
     },
     "execution_count": 21,
     "metadata": {},
     "output_type": "execute_result"
    }
   ],
   "source": [
    "cambio = []\n",
    "\n",
    "for i in edad:\n",
    "    cambio.append((edad[i],i))\n",
    "    \n",
    "cambio"
   ]
  },
  {
   "cell_type": "code",
   "execution_count": 17,
   "id": "de47cbee-01f6-49e6-a785-303a7feaf772",
   "metadata": {},
   "outputs": [
    {
     "data": {
      "text/plain": [
       "{30: 'juanga', 54: 'maria'}"
      ]
     },
     "execution_count": 17,
     "metadata": {},
     "output_type": "execute_result"
    }
   ],
   "source": [
    "cambiado = dict(cambio)\n",
    "cambiado"
   ]
  },
  {
   "cell_type": "code",
   "execution_count": 22,
   "id": "3def6d4f-3a50-44a0-b68b-12edb0618328",
   "metadata": {},
   "outputs": [
    {
     "data": {
      "text/plain": [
       "'juanga'"
      ]
     },
     "execution_count": 22,
     "metadata": {},
     "output_type": "execute_result"
    }
   ],
   "source": [
    "cambiado[30]"
   ]
  },
  {
   "cell_type": "code",
   "execution_count": 24,
   "id": "7aa27a21-3101-40df-b2f4-87ecf7198ecf",
   "metadata": {},
   "outputs": [
    {
     "data": {
      "text/plain": [
       "{'juanga': 30, 'maria': 54, 'lucy': 20}"
      ]
     },
     "execution_count": 24,
     "metadata": {},
     "output_type": "execute_result"
    }
   ],
   "source": [
    "# añadiendo entradas\n",
    "edad[\"lucy\"] = 20\n",
    "edad"
   ]
  },
  {
   "cell_type": "code",
   "execution_count": 30,
   "id": "c19ab009-e29e-41b8-abe9-39964de0c585",
   "metadata": {},
   "outputs": [
    {
     "data": {
      "text/plain": [
       "{30: 'juanga', 54: 'maria', 20: 'lucy'}"
      ]
     },
     "execution_count": 30,
     "metadata": {},
     "output_type": "execute_result"
    }
   ],
   "source": [
    "# ejercicio solo con diccionario\n",
    "invertido = {}\n",
    "for i in edad:\n",
    "    invertido[edad[i]] = i \n",
    "\n",
    "invertido"
   ]
  },
  {
   "cell_type": "code",
   "execution_count": null,
   "id": "2fc2f11b-f68b-4c1b-9421-9e3f3f0154e9",
   "metadata": {},
   "outputs": [],
   "source": []
  }
 ],
 "metadata": {
  "kernelspec": {
   "display_name": "Python 3 (ipykernel)",
   "language": "python",
   "name": "python3"
  },
  "language_info": {
   "codemirror_mode": {
    "name": "ipython",
    "version": 3
   },
   "file_extension": ".py",
   "mimetype": "text/x-python",
   "name": "python",
   "nbconvert_exporter": "python",
   "pygments_lexer": "ipython3",
   "version": "3.11.11"
  }
 },
 "nbformat": 4,
 "nbformat_minor": 5
}
