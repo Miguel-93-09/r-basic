{
 "cells": [
  {
   "cell_type": "markdown",
   "id": "35b93ddc-8bbc-478d-9a8a-23c2209ccf94",
   "metadata": {},
   "source": [
    "# lista\n",
    "\n",
    "contenedores que almacenan objetos en orden determinado."
   ]
  },
  {
   "cell_type": "code",
   "execution_count": 1,
   "id": "1c28a38e-19c2-42f6-bb7f-7f9f276e7321",
   "metadata": {},
   "outputs": [],
   "source": [
    "L1= [] #Lista vacia\n",
    "l2= [\"a\",\"b\",\"c\"] \n",
    "l3=['a',2,True]  #heterogenea"
   ]
  },
  {
   "cell_type": "code",
   "execution_count": 3,
   "id": "c118ed8d-41ee-4960-9572-1f1246aaa187",
   "metadata": {},
   "outputs": [
    {
     "data": {
      "text/plain": [
       "['a', 'b', 'c', 'a', 'b', 'c', 'a', 'b', 'c']"
      ]
     },
     "execution_count": 3,
     "metadata": {},
     "output_type": "execute_result"
    }
   ],
   "source": [
    "#multiplicando listas, se repiten datos\n",
    "l4= l2*3\n",
    "l4"
   ]
  },
  {
   "cell_type": "code",
   "execution_count": 5,
   "id": "ce31df85-cee5-4c51-9c5a-e410bf5b67af",
   "metadata": {},
   "outputs": [
    {
     "data": {
      "text/plain": [
       "'b'"
      ]
     },
     "execution_count": 5,
     "metadata": {},
     "output_type": "execute_result"
    }
   ],
   "source": [
    "#listas enmpiezan en 0\n",
    "\n",
    "l4[1]"
   ]
  },
  {
   "cell_type": "code",
   "execution_count": 6,
   "id": "ff5eab3e-4620-44a4-a169-a2272da0027c",
   "metadata": {},
   "outputs": [
    {
     "data": {
      "text/plain": [
       "'a'"
      ]
     },
     "execution_count": 6,
     "metadata": {},
     "output_type": "execute_result"
    }
   ],
   "source": [
    "l4[0]"
   ]
  },
  {
   "cell_type": "code",
   "execution_count": 7,
   "id": "be86d10c-1369-4892-87ae-37e91c3ef867",
   "metadata": {},
   "outputs": [
    {
     "ename": "IndexError",
     "evalue": "list index out of range",
     "output_type": "error",
     "traceback": [
      "\u001b[1;31m---------------------------------------------------------------------------\u001b[0m",
      "\u001b[1;31mIndexError\u001b[0m                                Traceback (most recent call last)",
      "Cell \u001b[1;32mIn[7], line 2\u001b[0m\n\u001b[0;32m      1\u001b[0m \u001b[38;5;66;03m# si indice no existe marca error\u001b[39;00m\n\u001b[1;32m----> 2\u001b[0m l4[\u001b[38;5;241m15\u001b[39m]\n",
      "\u001b[1;31mIndexError\u001b[0m: list index out of range"
     ]
    }
   ],
   "source": [
    "# si indice no existe marca error\n",
    "l4[15]"
   ]
  },
  {
   "cell_type": "code",
   "execution_count": 9,
   "id": "0844c820-bf4d-4ed2-9da5-2fbc202a6307",
   "metadata": {},
   "outputs": [
    {
     "data": {
      "text/plain": [
       "['a', 'b']"
      ]
     },
     "execution_count": 9,
     "metadata": {},
     "output_type": "execute_result"
    }
   ],
   "source": [
    "#incluye todos excepto el ultimo numero, multiindice\n",
    "\n",
    "l4[0:2]"
   ]
  },
  {
   "cell_type": "code",
   "execution_count": 10,
   "id": "60ed1a81-2228-49e7-8d29-0f211ef496c6",
   "metadata": {},
   "outputs": [
    {
     "data": {
      "text/plain": [
       "['a', 1, 2, 3, 'b', 'c', 'a', 'b', 'c']"
      ]
     },
     "execution_count": 10,
     "metadata": {},
     "output_type": "execute_result"
    }
   ],
   "source": [
    "# se pueden modificar valores multiples\n",
    "l4[1:4]=[1,2,3]\n",
    "l4"
   ]
  },
  {
   "cell_type": "code",
   "execution_count": 11,
   "id": "4687542f-f115-4fa3-9c21-32f0e61f6445",
   "metadata": {},
   "outputs": [
    {
     "data": {
      "text/plain": [
       "['a', 1, 2, 3, 'b', 'c', 'a', 'b', 'c', 3]"
      ]
     },
     "execution_count": 11,
     "metadata": {},
     "output_type": "execute_result"
    }
   ],
   "source": [
    "#.append  ; añade un ultimo elemneto a la fila\n",
    "\n",
    "l4.append(3)\n",
    "l4\n",
    "\n"
   ]
  },
  {
   "cell_type": "code",
   "execution_count": 13,
   "id": "a6eeb1da-6b56-44d7-870c-b43a52892c92",
   "metadata": {},
   "outputs": [
    {
     "data": {
      "text/plain": [
       "[1, 2, 3, 'b', 'c', 'a', 'b', 'c', 3]"
      ]
     },
     "execution_count": 13,
     "metadata": {},
     "output_type": "execute_result"
    }
   ],
   "source": [
    "#.remove()  ; elimina primera ocurrencia de objeto\n",
    "l4.remove(\"a\")\n",
    "l4\n"
   ]
  },
  {
   "cell_type": "code",
   "execution_count": 15,
   "id": "2b214da6-29ce-43b9-a3b0-9571273aea2b",
   "metadata": {},
   "outputs": [
    {
     "data": {
      "text/plain": [
       "2"
      ]
     },
     "execution_count": 15,
     "metadata": {},
     "output_type": "execute_result"
    }
   ],
   "source": [
    "#.reverse()  invierte lista\n",
    "#.count(x)  cuantos x hay\n",
    "#.index(x)   enque indice esta numero \"x\"\n",
    "\n",
    "l4.index(3)"
   ]
  },
  {
   "cell_type": "code",
   "execution_count": 16,
   "id": "d152593f-69ba-4f56-8958-b6fca3733c42",
   "metadata": {},
   "outputs": [],
   "source": [
    "#len(L)  longitud de lista L"
   ]
  },
  {
   "cell_type": "markdown",
   "id": "069b7e88-9200-43cd-a16d-2b856f5930f3",
   "metadata": {},
   "source": [
    "# NÚMEROS NO CONTIGUOS\n",
    "\n",
    "a:b:c   a es desde donde, b es hasta donde, c es de cuanto en cuanto"
   ]
  },
  {
   "cell_type": "code",
   "execution_count": 17,
   "id": "24b9e1df-01ea-4086-a62d-847a09015a2b",
   "metadata": {},
   "outputs": [
    {
     "data": {
      "text/plain": [
       "[2, 4]"
      ]
     },
     "execution_count": 17,
     "metadata": {},
     "output_type": "execute_result"
    }
   ],
   "source": [
    "A=[1,2,3,4,5,6,7,8,9,10]\n",
    "A[1:5:2]\n"
   ]
  },
  {
   "cell_type": "code",
   "execution_count": 18,
   "id": "06975fc7-2554-4f08-aaa9-035814f94edb",
   "metadata": {},
   "outputs": [
    {
     "data": {
      "text/plain": [
       "[1, 3, 5, 7, 9]"
      ]
     },
     "execution_count": 18,
     "metadata": {},
     "output_type": "execute_result"
    }
   ],
   "source": [
    "A[0::2]"
   ]
  },
  {
   "cell_type": "code",
   "execution_count": 19,
   "id": "325239c2-0aed-44fd-bc56-d290a7e8f766",
   "metadata": {},
   "outputs": [
    {
     "data": {
      "text/plain": [
       "[1, 3, 5, 7, 9]"
      ]
     },
     "execution_count": 19,
     "metadata": {},
     "output_type": "execute_result"
    }
   ],
   "source": [
    "A[::2]"
   ]
  },
  {
   "cell_type": "code",
   "execution_count": 21,
   "id": "16be6592-7e41-45ef-91db-ec42a06e7f15",
   "metadata": {},
   "outputs": [
    {
     "data": {
      "text/plain": [
       "10"
      ]
     },
     "execution_count": 21,
     "metadata": {},
     "output_type": "execute_result"
    }
   ],
   "source": [
    "# OBTENER ULTIMO ELEMENTO, DISTINTO DE R\n",
    "A[-1]"
   ]
  },
  {
   "cell_type": "code",
   "execution_count": 22,
   "id": "8924ac5e-ff5e-4f38-924f-094b433d6d74",
   "metadata": {},
   "outputs": [
    {
     "data": {
      "text/plain": [
       "9"
      ]
     },
     "execution_count": 22,
     "metadata": {},
     "output_type": "execute_result"
    }
   ],
   "source": [
    "A[-2]  #PENULTIMO"
   ]
  },
  {
   "cell_type": "markdown",
   "id": "9ac1a633-83f1-429f-b567-d5a673388c49",
   "metadata": {},
   "source": [
    "# Logicos"
   ]
  },
  {
   "cell_type": "code",
   "execution_count": 24,
   "id": "ea4025e9-8819-4eae-ac0f-7efe2e34719f",
   "metadata": {},
   "outputs": [
    {
     "data": {
      "text/plain": [
       "True"
      ]
     },
     "execution_count": 24,
     "metadata": {},
     "output_type": "execute_result"
    }
   ],
   "source": [
    "4 in A"
   ]
  }
 ],
 "metadata": {
  "kernelspec": {
   "display_name": "Python 3 (ipykernel)",
   "language": "python",
   "name": "python3"
  },
  "language_info": {
   "codemirror_mode": {
    "name": "ipython",
    "version": 3
   },
   "file_extension": ".py",
   "mimetype": "text/x-python",
   "name": "python",
   "nbconvert_exporter": "python",
   "pygments_lexer": "ipython3",
   "version": "3.11.7"
  }
 },
 "nbformat": 4,
 "nbformat_minor": 5
}
