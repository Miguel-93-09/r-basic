{
 "cells": [
  {
   "cell_type": "code",
   "execution_count": 1,
   "id": "569add4e-24a6-4dfe-b76d-c729e05714a0",
   "metadata": {},
   "outputs": [],
   "source": [
    "import pandas as pd\n",
    "import numpy as np"
   ]
  },
  {
   "cell_type": "code",
   "execution_count": 2,
   "id": "3593d9d9-ce5f-48aa-9bde-f889d2f9083b",
   "metadata": {},
   "outputs": [],
   "source": [
    "# creando con diccionario\n",
    "\n",
    "df = pd.DataFrame({\n",
    "    \"A\" : np.random.rand(10),\n",
    "    \"B\" : np.random.rand(10),\n",
    "    \"C\" :np.random.rand(10)\n",
    "})"
   ]
  },
  {
   "cell_type": "code",
   "execution_count": 3,
   "id": "7530c92f-40b8-498e-823a-a409b8f19314",
   "metadata": {},
   "outputs": [
    {
     "data": {
      "text/html": [
       "<div>\n",
       "<style scoped>\n",
       "    .dataframe tbody tr th:only-of-type {\n",
       "        vertical-align: middle;\n",
       "    }\n",
       "\n",
       "    .dataframe tbody tr th {\n",
       "        vertical-align: top;\n",
       "    }\n",
       "\n",
       "    .dataframe thead th {\n",
       "        text-align: right;\n",
       "    }\n",
       "</style>\n",
       "<table border=\"1\" class=\"dataframe\">\n",
       "  <thead>\n",
       "    <tr style=\"text-align: right;\">\n",
       "      <th></th>\n",
       "      <th>A</th>\n",
       "      <th>B</th>\n",
       "      <th>C</th>\n",
       "    </tr>\n",
       "  </thead>\n",
       "  <tbody>\n",
       "    <tr>\n",
       "      <th>0</th>\n",
       "      <td>0.045880</td>\n",
       "      <td>0.087790</td>\n",
       "      <td>0.810636</td>\n",
       "    </tr>\n",
       "    <tr>\n",
       "      <th>1</th>\n",
       "      <td>0.926474</td>\n",
       "      <td>0.556394</td>\n",
       "      <td>0.368081</td>\n",
       "    </tr>\n",
       "    <tr>\n",
       "      <th>2</th>\n",
       "      <td>0.796261</td>\n",
       "      <td>0.414161</td>\n",
       "      <td>0.610623</td>\n",
       "    </tr>\n",
       "    <tr>\n",
       "      <th>3</th>\n",
       "      <td>0.634295</td>\n",
       "      <td>0.033894</td>\n",
       "      <td>0.237981</td>\n",
       "    </tr>\n",
       "    <tr>\n",
       "      <th>4</th>\n",
       "      <td>0.280284</td>\n",
       "      <td>0.867354</td>\n",
       "      <td>0.278223</td>\n",
       "    </tr>\n",
       "    <tr>\n",
       "      <th>5</th>\n",
       "      <td>0.218200</td>\n",
       "      <td>0.047551</td>\n",
       "      <td>0.169903</td>\n",
       "    </tr>\n",
       "    <tr>\n",
       "      <th>6</th>\n",
       "      <td>0.330724</td>\n",
       "      <td>0.036124</td>\n",
       "      <td>0.562443</td>\n",
       "    </tr>\n",
       "    <tr>\n",
       "      <th>7</th>\n",
       "      <td>0.442747</td>\n",
       "      <td>0.021184</td>\n",
       "      <td>0.397714</td>\n",
       "    </tr>\n",
       "    <tr>\n",
       "      <th>8</th>\n",
       "      <td>0.238849</td>\n",
       "      <td>0.772147</td>\n",
       "      <td>0.824584</td>\n",
       "    </tr>\n",
       "    <tr>\n",
       "      <th>9</th>\n",
       "      <td>0.103262</td>\n",
       "      <td>0.857810</td>\n",
       "      <td>0.162179</td>\n",
       "    </tr>\n",
       "  </tbody>\n",
       "</table>\n",
       "</div>"
      ],
      "text/plain": [
       "          A         B         C\n",
       "0  0.045880  0.087790  0.810636\n",
       "1  0.926474  0.556394  0.368081\n",
       "2  0.796261  0.414161  0.610623\n",
       "3  0.634295  0.033894  0.237981\n",
       "4  0.280284  0.867354  0.278223\n",
       "5  0.218200  0.047551  0.169903\n",
       "6  0.330724  0.036124  0.562443\n",
       "7  0.442747  0.021184  0.397714\n",
       "8  0.238849  0.772147  0.824584\n",
       "9  0.103262  0.857810  0.162179"
      ]
     },
     "execution_count": 3,
     "metadata": {},
     "output_type": "execute_result"
    }
   ],
   "source": [
    "df"
   ]
  },
  {
   "cell_type": "code",
   "execution_count": 4,
   "id": "2ff14192-8e72-492d-9c5d-78d347a02dea",
   "metadata": {},
   "outputs": [
    {
     "data": {
      "text/plain": [
       "A    0.401698\n",
       "B    0.369441\n",
       "C    0.442237\n",
       "dtype: float64"
      ]
     },
     "execution_count": 4,
     "metadata": {},
     "output_type": "execute_result"
    }
   ],
   "source": [
    "df.mean()"
   ]
  },
  {
   "cell_type": "code",
   "execution_count": 5,
   "id": "7b75b30d-ea79-48cc-8ed8-830ad05f577e",
   "metadata": {},
   "outputs": [
    {
     "data": {
      "text/plain": [
       "0    0.314769\n",
       "1    0.616983\n",
       "2    0.607015\n",
       "3    0.302057\n",
       "4    0.475287\n",
       "5    0.145218\n",
       "6    0.309763\n",
       "7    0.287215\n",
       "8    0.611860\n",
       "9    0.374417\n",
       "dtype: float64"
      ]
     },
     "execution_count": 5,
     "metadata": {},
     "output_type": "execute_result"
    }
   ],
   "source": [
    "# por filas\n",
    "df.mean(axis=\"columns\")"
   ]
  },
  {
   "cell_type": "code",
   "execution_count": 6,
   "id": "726e6f2f-115e-49db-8bbd-9a0717258843",
   "metadata": {},
   "outputs": [
    {
     "data": {
      "text/html": [
       "<div>\n",
       "<style scoped>\n",
       "    .dataframe tbody tr th:only-of-type {\n",
       "        vertical-align: middle;\n",
       "    }\n",
       "\n",
       "    .dataframe tbody tr th {\n",
       "        vertical-align: top;\n",
       "    }\n",
       "\n",
       "    .dataframe thead th {\n",
       "        text-align: right;\n",
       "    }\n",
       "</style>\n",
       "<table border=\"1\" class=\"dataframe\">\n",
       "  <thead>\n",
       "    <tr style=\"text-align: right;\">\n",
       "      <th></th>\n",
       "      <th>key</th>\n",
       "      <th>values</th>\n",
       "    </tr>\n",
       "  </thead>\n",
       "  <tbody>\n",
       "    <tr>\n",
       "      <th>0</th>\n",
       "      <td>A</td>\n",
       "      <td>0</td>\n",
       "    </tr>\n",
       "    <tr>\n",
       "      <th>1</th>\n",
       "      <td>B</td>\n",
       "      <td>1</td>\n",
       "    </tr>\n",
       "    <tr>\n",
       "      <th>2</th>\n",
       "      <td>C</td>\n",
       "      <td>2</td>\n",
       "    </tr>\n",
       "    <tr>\n",
       "      <th>3</th>\n",
       "      <td>A</td>\n",
       "      <td>3</td>\n",
       "    </tr>\n",
       "    <tr>\n",
       "      <th>4</th>\n",
       "      <td>B</td>\n",
       "      <td>4</td>\n",
       "    </tr>\n",
       "    <tr>\n",
       "      <th>5</th>\n",
       "      <td>C</td>\n",
       "      <td>5</td>\n",
       "    </tr>\n",
       "  </tbody>\n",
       "</table>\n",
       "</div>"
      ],
      "text/plain": [
       "  key  values\n",
       "0   A       0\n",
       "1   B       1\n",
       "2   C       2\n",
       "3   A       3\n",
       "4   B       4\n",
       "5   C       5"
      ]
     },
     "execution_count": 6,
     "metadata": {},
     "output_type": "execute_result"
    }
   ],
   "source": [
    "#asignando nombres a las columnas , no tiene mucho sentido por ahora\n",
    "\n",
    "df2 = pd.DataFrame({\n",
    "    \"key\" : [\"A\",\"B\",\"C\",\"A\",\"B\",\"C\"],\n",
    "    \"values\" : range(6)\n",
    "},\n",
    "    columns = [\"key\", \"values\"]\n",
    "                  )\n",
    "\n",
    "df2 \n",
    "    "
   ]
  },
  {
   "cell_type": "code",
   "execution_count": 7,
   "id": "88dc0df6-6270-4cfb-9946-c2f03e08cd62",
   "metadata": {},
   "outputs": [
    {
     "data": {
      "text/plain": [
       "<pandas.core.groupby.generic.DataFrameGroupBy object at 0x78548109e660>"
      ]
     },
     "execution_count": 7,
     "metadata": {},
     "output_type": "execute_result"
    }
   ],
   "source": [
    "# por factores, agrupacion, se agruparon pero no se nota\n",
    "df2.groupby(\"key\")"
   ]
  },
  {
   "cell_type": "code",
   "execution_count": 8,
   "id": "ec588461-cef0-4d98-ac00-ee3f9f132884",
   "metadata": {},
   "outputs": [
    {
     "data": {
      "text/html": [
       "<div>\n",
       "<style scoped>\n",
       "    .dataframe tbody tr th:only-of-type {\n",
       "        vertical-align: middle;\n",
       "    }\n",
       "\n",
       "    .dataframe tbody tr th {\n",
       "        vertical-align: top;\n",
       "    }\n",
       "\n",
       "    .dataframe thead th {\n",
       "        text-align: right;\n",
       "    }\n",
       "</style>\n",
       "<table border=\"1\" class=\"dataframe\">\n",
       "  <thead>\n",
       "    <tr style=\"text-align: right;\">\n",
       "      <th></th>\n",
       "      <th>values</th>\n",
       "    </tr>\n",
       "    <tr>\n",
       "      <th>key</th>\n",
       "      <th></th>\n",
       "    </tr>\n",
       "  </thead>\n",
       "  <tbody>\n",
       "    <tr>\n",
       "      <th>A</th>\n",
       "      <td>1.5</td>\n",
       "    </tr>\n",
       "    <tr>\n",
       "      <th>B</th>\n",
       "      <td>2.5</td>\n",
       "    </tr>\n",
       "    <tr>\n",
       "      <th>C</th>\n",
       "      <td>3.5</td>\n",
       "    </tr>\n",
       "  </tbody>\n",
       "</table>\n",
       "</div>"
      ],
      "text/plain": [
       "     values\n",
       "key        \n",
       "A       1.5\n",
       "B       2.5\n",
       "C       3.5"
      ]
     },
     "execution_count": 8,
     "metadata": {},
     "output_type": "execute_result"
    }
   ],
   "source": [
    "# ejemplo funcion\n",
    "df2.groupby(\"key\").mean()"
   ]
  },
  {
   "cell_type": "code",
   "execution_count": null,
   "id": "e62379d4-9c78-435b-876a-4a3f9439f27d",
   "metadata": {},
   "outputs": [],
   "source": []
  }
 ],
 "metadata": {
  "kernelspec": {
   "display_name": "Python [conda env:base] *",
   "language": "python",
   "name": "conda-base-py"
  },
  "language_info": {
   "codemirror_mode": {
    "name": "ipython",
    "version": 3
   },
   "file_extension": ".py",
   "mimetype": "text/x-python",
   "name": "python",
   "nbconvert_exporter": "python",
   "pygments_lexer": "ipython3",
   "version": "3.13.5"
  }
 },
 "nbformat": 4,
 "nbformat_minor": 5
}
