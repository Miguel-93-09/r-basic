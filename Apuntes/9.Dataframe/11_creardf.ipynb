{
 "cells": [
  {
   "cell_type": "code",
   "execution_count": 1,
   "id": "569add4e-24a6-4dfe-b76d-c729e05714a0",
   "metadata": {},
   "outputs": [],
   "source": [
    "import pandas as pd\n",
    "import numpy as np"
   ]
  },
  {
   "cell_type": "code",
   "execution_count": 2,
   "id": "3593d9d9-ce5f-48aa-9bde-f889d2f9083b",
   "metadata": {},
   "outputs": [],
   "source": [
    "# creando con diccionario\n",
    "\n",
    "df = pd.DataFrame({\n",
    "    \"A\" : np.random.rand(10),\n",
    "    \"B\" : np.random.rand(10),\n",
    "    \"C\" :np.random.rand(10)\n",
    "})"
   ]
  },
  {
   "cell_type": "code",
   "execution_count": 3,
   "id": "7530c92f-40b8-498e-823a-a409b8f19314",
   "metadata": {},
   "outputs": [
    {
     "data": {
      "text/html": [
       "<div>\n",
       "<style scoped>\n",
       "    .dataframe tbody tr th:only-of-type {\n",
       "        vertical-align: middle;\n",
       "    }\n",
       "\n",
       "    .dataframe tbody tr th {\n",
       "        vertical-align: top;\n",
       "    }\n",
       "\n",
       "    .dataframe thead th {\n",
       "        text-align: right;\n",
       "    }\n",
       "</style>\n",
       "<table border=\"1\" class=\"dataframe\">\n",
       "  <thead>\n",
       "    <tr style=\"text-align: right;\">\n",
       "      <th></th>\n",
       "      <th>A</th>\n",
       "      <th>B</th>\n",
       "      <th>C</th>\n",
       "    </tr>\n",
       "  </thead>\n",
       "  <tbody>\n",
       "    <tr>\n",
       "      <th>0</th>\n",
       "      <td>0.718106</td>\n",
       "      <td>0.606310</td>\n",
       "      <td>0.256779</td>\n",
       "    </tr>\n",
       "    <tr>\n",
       "      <th>1</th>\n",
       "      <td>0.813772</td>\n",
       "      <td>0.971256</td>\n",
       "      <td>0.890118</td>\n",
       "    </tr>\n",
       "    <tr>\n",
       "      <th>2</th>\n",
       "      <td>0.620861</td>\n",
       "      <td>0.457872</td>\n",
       "      <td>0.527168</td>\n",
       "    </tr>\n",
       "    <tr>\n",
       "      <th>3</th>\n",
       "      <td>0.799853</td>\n",
       "      <td>0.533827</td>\n",
       "      <td>0.191398</td>\n",
       "    </tr>\n",
       "    <tr>\n",
       "      <th>4</th>\n",
       "      <td>0.623612</td>\n",
       "      <td>0.674518</td>\n",
       "      <td>0.405196</td>\n",
       "    </tr>\n",
       "    <tr>\n",
       "      <th>5</th>\n",
       "      <td>0.566454</td>\n",
       "      <td>0.174898</td>\n",
       "      <td>0.427004</td>\n",
       "    </tr>\n",
       "    <tr>\n",
       "      <th>6</th>\n",
       "      <td>0.047753</td>\n",
       "      <td>0.364395</td>\n",
       "      <td>0.506829</td>\n",
       "    </tr>\n",
       "    <tr>\n",
       "      <th>7</th>\n",
       "      <td>0.801662</td>\n",
       "      <td>0.777464</td>\n",
       "      <td>0.634222</td>\n",
       "    </tr>\n",
       "    <tr>\n",
       "      <th>8</th>\n",
       "      <td>0.972208</td>\n",
       "      <td>0.017263</td>\n",
       "      <td>0.009016</td>\n",
       "    </tr>\n",
       "    <tr>\n",
       "      <th>9</th>\n",
       "      <td>0.752515</td>\n",
       "      <td>0.305544</td>\n",
       "      <td>0.712446</td>\n",
       "    </tr>\n",
       "  </tbody>\n",
       "</table>\n",
       "</div>"
      ],
      "text/plain": [
       "          A         B         C\n",
       "0  0.718106  0.606310  0.256779\n",
       "1  0.813772  0.971256  0.890118\n",
       "2  0.620861  0.457872  0.527168\n",
       "3  0.799853  0.533827  0.191398\n",
       "4  0.623612  0.674518  0.405196\n",
       "5  0.566454  0.174898  0.427004\n",
       "6  0.047753  0.364395  0.506829\n",
       "7  0.801662  0.777464  0.634222\n",
       "8  0.972208  0.017263  0.009016\n",
       "9  0.752515  0.305544  0.712446"
      ]
     },
     "execution_count": 3,
     "metadata": {},
     "output_type": "execute_result"
    }
   ],
   "source": [
    "df"
   ]
  },
  {
   "cell_type": "code",
   "execution_count": 4,
   "id": "2ff14192-8e72-492d-9c5d-78d347a02dea",
   "metadata": {},
   "outputs": [
    {
     "data": {
      "text/plain": [
       "A    0.671679\n",
       "B    0.488335\n",
       "C    0.456018\n",
       "dtype: float64"
      ]
     },
     "execution_count": 4,
     "metadata": {},
     "output_type": "execute_result"
    }
   ],
   "source": [
    "df.mean()"
   ]
  },
  {
   "cell_type": "code",
   "execution_count": 5,
   "id": "7b75b30d-ea79-48cc-8ed8-830ad05f577e",
   "metadata": {},
   "outputs": [
    {
     "data": {
      "text/plain": [
       "0    0.527065\n",
       "1    0.891715\n",
       "2    0.535300\n",
       "3    0.508359\n",
       "4    0.567775\n",
       "5    0.389452\n",
       "6    0.306326\n",
       "7    0.737783\n",
       "8    0.332829\n",
       "9    0.590168\n",
       "dtype: float64"
      ]
     },
     "execution_count": 5,
     "metadata": {},
     "output_type": "execute_result"
    }
   ],
   "source": [
    "# por filas\n",
    "df.mean(axis=\"columns\")"
   ]
  },
  {
   "cell_type": "code",
   "execution_count": 6,
   "id": "726e6f2f-115e-49db-8bbd-9a0717258843",
   "metadata": {},
   "outputs": [
    {
     "data": {
      "text/html": [
       "<div>\n",
       "<style scoped>\n",
       "    .dataframe tbody tr th:only-of-type {\n",
       "        vertical-align: middle;\n",
       "    }\n",
       "\n",
       "    .dataframe tbody tr th {\n",
       "        vertical-align: top;\n",
       "    }\n",
       "\n",
       "    .dataframe thead th {\n",
       "        text-align: right;\n",
       "    }\n",
       "</style>\n",
       "<table border=\"1\" class=\"dataframe\">\n",
       "  <thead>\n",
       "    <tr style=\"text-align: right;\">\n",
       "      <th></th>\n",
       "      <th>key</th>\n",
       "      <th>values</th>\n",
       "    </tr>\n",
       "  </thead>\n",
       "  <tbody>\n",
       "    <tr>\n",
       "      <th>0</th>\n",
       "      <td>A</td>\n",
       "      <td>0</td>\n",
       "    </tr>\n",
       "    <tr>\n",
       "      <th>1</th>\n",
       "      <td>B</td>\n",
       "      <td>1</td>\n",
       "    </tr>\n",
       "    <tr>\n",
       "      <th>2</th>\n",
       "      <td>C</td>\n",
       "      <td>2</td>\n",
       "    </tr>\n",
       "    <tr>\n",
       "      <th>3</th>\n",
       "      <td>A</td>\n",
       "      <td>3</td>\n",
       "    </tr>\n",
       "    <tr>\n",
       "      <th>4</th>\n",
       "      <td>B</td>\n",
       "      <td>4</td>\n",
       "    </tr>\n",
       "    <tr>\n",
       "      <th>5</th>\n",
       "      <td>C</td>\n",
       "      <td>5</td>\n",
       "    </tr>\n",
       "  </tbody>\n",
       "</table>\n",
       "</div>"
      ],
      "text/plain": [
       "  key  values\n",
       "0   A       0\n",
       "1   B       1\n",
       "2   C       2\n",
       "3   A       3\n",
       "4   B       4\n",
       "5   C       5"
      ]
     },
     "execution_count": 6,
     "metadata": {},
     "output_type": "execute_result"
    }
   ],
   "source": [
    "#asignando nombres a las columnas , no tiene mucho sentido por ahora\n",
    "\n",
    "df2 = pd.DataFrame({\n",
    "    \"key\" : [\"A\",\"B\",\"C\",\"A\",\"B\",\"C\"],\n",
    "    \"values\" : range(6)\n",
    "},\n",
    "    columns = [\"key\", \"values\"]\n",
    "                  )\n",
    "\n",
    "df2 \n",
    "    "
   ]
  },
  {
   "cell_type": "code",
   "execution_count": 7,
   "id": "88dc0df6-6270-4cfb-9946-c2f03e08cd62",
   "metadata": {},
   "outputs": [
    {
     "data": {
      "text/plain": [
       "<pandas.core.groupby.generic.DataFrameGroupBy object at 0x756bc40f7a90>"
      ]
     },
     "execution_count": 7,
     "metadata": {},
     "output_type": "execute_result"
    }
   ],
   "source": [
    "# por factores, agrupacion, se agruparon pero no se nota\n",
    "df2.groupby(\"key\")"
   ]
  },
  {
   "cell_type": "code",
   "execution_count": 8,
   "id": "ec588461-cef0-4d98-ac00-ee3f9f132884",
   "metadata": {},
   "outputs": [
    {
     "data": {
      "text/html": [
       "<div>\n",
       "<style scoped>\n",
       "    .dataframe tbody tr th:only-of-type {\n",
       "        vertical-align: middle;\n",
       "    }\n",
       "\n",
       "    .dataframe tbody tr th {\n",
       "        vertical-align: top;\n",
       "    }\n",
       "\n",
       "    .dataframe thead th {\n",
       "        text-align: right;\n",
       "    }\n",
       "</style>\n",
       "<table border=\"1\" class=\"dataframe\">\n",
       "  <thead>\n",
       "    <tr style=\"text-align: right;\">\n",
       "      <th></th>\n",
       "      <th>values</th>\n",
       "    </tr>\n",
       "    <tr>\n",
       "      <th>key</th>\n",
       "      <th></th>\n",
       "    </tr>\n",
       "  </thead>\n",
       "  <tbody>\n",
       "    <tr>\n",
       "      <th>A</th>\n",
       "      <td>1.5</td>\n",
       "    </tr>\n",
       "    <tr>\n",
       "      <th>B</th>\n",
       "      <td>2.5</td>\n",
       "    </tr>\n",
       "    <tr>\n",
       "      <th>C</th>\n",
       "      <td>3.5</td>\n",
       "    </tr>\n",
       "  </tbody>\n",
       "</table>\n",
       "</div>"
      ],
      "text/plain": [
       "     values\n",
       "key        \n",
       "A       1.5\n",
       "B       2.5\n",
       "C       3.5"
      ]
     },
     "execution_count": 8,
     "metadata": {},
     "output_type": "execute_result"
    }
   ],
   "source": [
    "# ejemplo funcion\n",
    "df2.groupby(\"key\").mean()"
   ]
  },
  {
   "cell_type": "code",
   "execution_count": null,
   "id": "e62379d4-9c78-435b-876a-4a3f9439f27d",
   "metadata": {},
   "outputs": [],
   "source": []
  }
 ],
 "metadata": {
  "kernelspec": {
   "display_name": "Python 3 (ipykernel)",
   "language": "python",
   "name": "python3"
  },
  "language_info": {
   "codemirror_mode": {
    "name": "ipython",
    "version": 3
   },
   "file_extension": ".py",
   "mimetype": "text/x-python",
   "name": "python",
   "nbconvert_exporter": "python",
   "pygments_lexer": "ipython3",
   "version": "3.11.11"
  }
 },
 "nbformat": 4,
 "nbformat_minor": 5
}
