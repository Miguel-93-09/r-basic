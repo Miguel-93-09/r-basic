{
 "cells": [
  {
   "cell_type": "markdown",
   "id": "2fa340be-88f9-40c3-a02c-64a2c23f71e4",
   "metadata": {},
   "source": [
    "# comparar con R"
   ]
  },
  {
   "cell_type": "code",
   "execution_count": 12,
   "id": "d7f9e7a5-18a0-43fd-b84a-64235a052d3b",
   "metadata": {},
   "outputs": [
    {
     "data": {
      "text/html": [
       "<div>\n",
       "<style scoped>\n",
       "    .dataframe tbody tr th:only-of-type {\n",
       "        vertical-align: middle;\n",
       "    }\n",
       "\n",
       "    .dataframe tbody tr th {\n",
       "        vertical-align: top;\n",
       "    }\n",
       "\n",
       "    .dataframe thead th {\n",
       "        text-align: right;\n",
       "    }\n",
       "</style>\n",
       "<table border=\"1\" class=\"dataframe\">\n",
       "  <thead>\n",
       "    <tr style=\"text-align: right;\">\n",
       "      <th></th>\n",
       "      <th>input</th>\n",
       "      <th>color</th>\n",
       "      <th>spine</th>\n",
       "      <th>width</th>\n",
       "      <th>satell</th>\n",
       "      <th>weight</th>\n",
       "    </tr>\n",
       "  </thead>\n",
       "  <tbody>\n",
       "    <tr>\n",
       "      <th>0</th>\n",
       "      <td>1</td>\n",
       "      <td>3</td>\n",
       "      <td>3</td>\n",
       "      <td>28.3</td>\n",
       "      <td>8</td>\n",
       "      <td>3050</td>\n",
       "    </tr>\n",
       "    <tr>\n",
       "      <th>1</th>\n",
       "      <td>2</td>\n",
       "      <td>4</td>\n",
       "      <td>3</td>\n",
       "      <td>22.5</td>\n",
       "      <td>0</td>\n",
       "      <td>1550</td>\n",
       "    </tr>\n",
       "    <tr>\n",
       "      <th>2</th>\n",
       "      <td>3</td>\n",
       "      <td>2</td>\n",
       "      <td>1</td>\n",
       "      <td>26.0</td>\n",
       "      <td>9</td>\n",
       "      <td>2300</td>\n",
       "    </tr>\n",
       "    <tr>\n",
       "      <th>3</th>\n",
       "      <td>4</td>\n",
       "      <td>4</td>\n",
       "      <td>3</td>\n",
       "      <td>24.8</td>\n",
       "      <td>0</td>\n",
       "      <td>2100</td>\n",
       "    </tr>\n",
       "    <tr>\n",
       "      <th>4</th>\n",
       "      <td>5</td>\n",
       "      <td>4</td>\n",
       "      <td>3</td>\n",
       "      <td>26.0</td>\n",
       "      <td>4</td>\n",
       "      <td>2600</td>\n",
       "    </tr>\n",
       "  </tbody>\n",
       "</table>\n",
       "</div>"
      ],
      "text/plain": [
       "   input  color  spine  width  satell  weight\n",
       "0      1      3      3   28.3       8    3050\n",
       "1      2      4      3   22.5       0    1550\n",
       "2      3      2      1   26.0       9    2300\n",
       "3      4      4      3   24.8       0    2100\n",
       "4      5      4      3   26.0       4    2600"
      ]
     },
     "execution_count": 12,
     "metadata": {},
     "output_type": "execute_result"
    }
   ],
   "source": [
    "import pandas as pd\n",
    "import math \n",
    "import numpy as np\n",
    "\n",
    "cw = pd.read_table(\"../../data/datacrab.txt\", sep = \" \")\n",
    "cw.head()"
   ]
  },
  {
   "cell_type": "code",
   "execution_count": 16,
   "id": "015b57f7-7dd9-43a6-aa26-c39464fff4e3",
   "metadata": {},
   "outputs": [
    {
     "data": {
      "text/plain": [
       "<bound method NDFrame.head of 0      28.3\n",
       "1      22.5\n",
       "2      26.0\n",
       "3      24.8\n",
       "4      26.0\n",
       "       ... \n",
       "168    26.1\n",
       "169    29.0\n",
       "170    28.0\n",
       "171    27.0\n",
       "172    24.5\n",
       "Name: width, Length: 173, dtype: float64>"
      ]
     },
     "execution_count": 16,
     "metadata": {},
     "output_type": "execute_result"
    }
   ],
   "source": [
    "cw = cw.width\n",
    "cw.head"
   ]
  },
  {
   "cell_type": "code",
   "execution_count": 36,
   "id": "397d3d8d-a97a-4317-a525-a2dea301822d",
   "metadata": {},
   "outputs": [
    {
     "name": "stdout",
     "output_type": "stream",
     "text": [
      "14 9 10 13\n"
     ]
    }
   ],
   "source": [
    "n = len(cw)\n",
    "k1 = math.ceil(math.sqrt(n))\n",
    "\n",
    "k2 = math.ceil(1 + math.log2(n))\n",
    "\n",
    "k3 = 3.5 * np.std(cw) * pow(n,-(1/3))\n",
    "# np.ptp(cw, axis = 0) sirve para clular rango directamente\n",
    "k3 = math.ceil(  np.ptp(cw, axis = 0) /k3 )\n",
    "\n",
    "k4 = 2 * ( np.percentile(cw, 75) - np.percentile(cw, 25) ) * pow(n,-(1/3))\n",
    "k4 = math.ceil(  np.ptp(cw, axis = 0) /k4 )\n",
    "\n",
    "\n",
    "print(k1,k2,k3,k4)\n"
   ]
  },
  {
   "cell_type": "code",
   "execution_count": 47,
   "id": "69333b64-0b60-45a3-85ad-bb19bfcee3ca",
   "metadata": {},
   "outputs": [
    {
     "data": {
      "text/plain": [
       "1.3"
      ]
     },
     "execution_count": 47,
     "metadata": {},
     "output_type": "execute_result"
    }
   ],
   "source": [
    "# amplitud, ejemplo con k3\n",
    "z = np.ptp(cw, axis = 0) / k3\n",
    "y = math.ceil(z* 10 ** 1)\n",
    "y = y * 10 ** -1\n",
    "if y == z :\n",
    "    A = z + 10 ** -1\n",
    "A = y"
   ]
  },
  {
   "cell_type": "code",
   "execution_count": 54,
   "id": "28296d3a-9ebc-4cac-97e6-fe1d771e409a",
   "metadata": {},
   "outputs": [
    {
     "data": {
      "text/plain": [
       "array([20.95, 22.25, 23.55, 24.85, 26.15, 27.45, 28.75, 30.05, 31.35,\n",
       "       32.65, 33.95])"
      ]
     },
     "execution_count": 54,
     "metadata": {},
     "output_type": "execute_result"
    }
   ],
   "source": [
    "# ejemplo intervalos\n",
    "L1 = cw.min() - 1 / 2 * 10 ** -1\n",
    "L = L1 + A * np.arange(0,11)\n",
    "\n",
    "\n"
   ]
  },
  {
   "cell_type": "code",
   "execution_count": 59,
   "id": "901ae282-d628-4b02-a72f-19eb715c3b07",
   "metadata": {},
   "outputs": [
    {
     "data": {
      "text/plain": [
       "array([21.6, 22.9, 24.2, 25.5, 26.8, 28.1, 29.4, 30.7, 32. , 33.3])"
      ]
     },
     "execution_count": 59,
     "metadata": {},
     "output_type": "execute_result"
    }
   ],
   "source": [
    "# ejemplo  Etiquetas\n",
    "X1 = ( L[0] + L[1]) /2 \n",
    "X = X1 + A * np.arange(0,10)\n",
    "X\n",
    "\n"
   ]
  },
  {
   "cell_type": "code",
   "execution_count": 64,
   "id": "e83a2e03-9411-4109-be03-d1a1fad65588",
   "metadata": {},
   "outputs": [
    {
     "data": {
      "text/plain": [
       "array([21.6, 22.9, 24.2, 25.5, 26.8, 28.1, 29.4, 30.7, 32. , 33.3])"
      ]
     },
     "execution_count": 64,
     "metadata": {},
     "output_type": "execute_result"
    }
   ],
   "source": [
    "# forma alt\n",
    "X = (L[0:(len(L)-1)] + L[1:(len(L))] ) / 2\n",
    "X"
   ]
  },
  {
   "cell_type": "code",
   "execution_count": null,
   "id": "8b0981e9-5949-4021-b809-2417eb14c97e",
   "metadata": {},
   "outputs": [],
   "source": []
  }
 ],
 "metadata": {
  "kernelspec": {
   "display_name": "Python 3 (ipykernel)",
   "language": "python",
   "name": "python3"
  },
  "language_info": {
   "codemirror_mode": {
    "name": "ipython",
    "version": 3
   },
   "file_extension": ".py",
   "mimetype": "text/x-python",
   "name": "python",
   "nbconvert_exporter": "python",
   "pygments_lexer": "ipython3",
   "version": "3.11.7"
  }
 },
 "nbformat": 4,
 "nbformat_minor": 5
}
