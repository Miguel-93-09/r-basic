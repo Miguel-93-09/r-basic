{
 "cells": [
  {
   "cell_type": "markdown",
   "id": "c9400257-3ee3-4130-9238-e329bb439ed5",
   "metadata": {},
   "source": [
    "# histrogramas en python"
   ]
  },
  {
   "cell_type": "markdown",
   "id": "565e95a9-45ad-4a52-9f35-cccb23866e55",
   "metadata": {},
   "source": [
    "## histrogramas en python puro"
   ]
  },
  {
   "cell_type": "code",
   "execution_count": 57,
   "id": "4ba98724-3f57-49a7-963f-c8f2158ddc5c",
   "metadata": {},
   "outputs": [],
   "source": [
    "x = (0,1,1,1,2,2,3,7,7,7,25)"
   ]
  },
  {
   "cell_type": "code",
   "execution_count": 36,
   "id": "912d0c38-c21d-435d-999d-34004cd34cbc",
   "metadata": {},
   "outputs": [],
   "source": [
    "# definimos funcion para crear dict como si fuera table en R\n",
    "def count_elements(seq) -> dict:\n",
    "    \"\"\"\n",
    "    Funcion crea table como en R\n",
    "    \"\"\"\n",
    "    hist = {}\n",
    "    for i in seq:\n",
    "        hist[i] = hist.get(i , 0) + 1\n",
    "    return hist\n",
    "\n",
    "# notemos que en hist.get(x,y) x es la clave a la que accedera, como primero es lista vacia, esta funcion crea la entrada en el dict x:y\n",
    "# si ya existe la entrada accede al valor y le sumara uno"
   ]
  },
  {
   "cell_type": "code",
   "execution_count": 37,
   "id": "bec0e92e-bee7-468b-aaa5-bf2b9ffecd82",
   "metadata": {},
   "outputs": [
    {
     "data": {
      "text/plain": [
       "{0: 1, 1: 3, 2: 2, 3: 1, 7: 3, 25: 1}"
      ]
     },
     "execution_count": 37,
     "metadata": {},
     "output_type": "execute_result"
    }
   ],
   "source": [
    "fAbs = count_elements(x)\n",
    "fAbs"
   ]
  },
  {
   "cell_type": "code",
   "execution_count": 38,
   "id": "ff554bd7-d540-48f7-ab4c-5748b72d7c9d",
   "metadata": {},
   "outputs": [],
   "source": [
    "# esta funcion ya existe\n",
    "from collections import Counter"
   ]
  },
  {
   "cell_type": "code",
   "execution_count": 39,
   "id": "8e65afcd-5a89-4239-aff0-f440203b3a6e",
   "metadata": {},
   "outputs": [
    {
     "data": {
      "text/plain": [
       "Counter({1: 3, 7: 3, 2: 2, 0: 1, 3: 1, 25: 1})"
      ]
     },
     "execution_count": 39,
     "metadata": {},
     "output_type": "execute_result"
    }
   ],
   "source": [
    "fAbs2 = Counter(x)\n",
    "fAbs2"
   ]
  },
  {
   "cell_type": "code",
   "execution_count": 40,
   "id": "9d8e4ac8-b9ff-4e2b-9429-170c1a64d310",
   "metadata": {},
   "outputs": [
    {
     "data": {
      "text/plain": [
       "True"
      ]
     },
     "execution_count": 40,
     "metadata": {},
     "output_type": "execute_result"
    }
   ],
   "source": [
    "#comprobamos que son iguales\n",
    "fAbs.items() == fAbs2.items()"
   ]
  },
  {
   "cell_type": "code",
   "execution_count": 48,
   "id": "43e7afac-5e63-4323-9c03-ac156b0076f8",
   "metadata": {},
   "outputs": [],
   "source": [
    "# creamos histograma manual con signos +\n",
    "def ascii_histogram(seq) -> None:\n",
    "    fAbs = count_elements(seq)\n",
    "    for k in sorted(fAbs):\n",
    "        print('{0:5d} {1}'.format(k , '+'*fAbs[k]))\n",
    "\n",
    "# observemos como funciona print, sobre todo que 0:5d significa que reservamos 5 espacios para el digito k"
   ]
  },
  {
   "cell_type": "code",
   "execution_count": 42,
   "id": "b08d60df-28fe-4970-99f1-d4d7e338006a",
   "metadata": {},
   "outputs": [
    {
     "name": "stdout",
     "output_type": "stream",
     "text": [
      "    0 +\n",
      "    1 +++\n",
      "    2 ++\n",
      "    3 +\n",
      "    7 +++\n",
      "   25 +\n"
     ]
    }
   ],
   "source": [
    "asii_histogram(x)"
   ]
  },
  {
   "cell_type": "code",
   "execution_count": 43,
   "id": "b3ce0f35-1f3e-416b-94e7-5a68ba2df2d1",
   "metadata": {},
   "outputs": [],
   "source": [
    "# ahora extenderemos una tabla de frecuencias a su raw data\n",
    "import random\n",
    "random.seed(2019)"
   ]
  },
  {
   "cell_type": "code",
   "execution_count": 44,
   "id": "118d575e-3819-4d7f-a806-97625fa2c271",
   "metadata": {},
   "outputs": [],
   "source": [
    "vals = [1,2,3,5,7,9,10]\n",
    "freqs = (random.randint(5,20) for _ in vals)\n",
    "# el _ se usa porque no emplearemos el iterador en si mismo, solo la longitud de vals"
   ]
  },
  {
   "cell_type": "code",
   "execution_count": 45,
   "id": "2103e062-611f-4a33-8177-46fcb42ecbb2",
   "metadata": {},
   "outputs": [
    {
     "data": {
      "text/plain": [
       "[1,\n",
       " 1,\n",
       " 1,\n",
       " 1,\n",
       " 1,\n",
       " 1,\n",
       " 1,\n",
       " 1,\n",
       " 1,\n",
       " 2,\n",
       " 2,\n",
       " 2,\n",
       " 2,\n",
       " 2,\n",
       " 2,\n",
       " 2,\n",
       " 2,\n",
       " 2,\n",
       " 2,\n",
       " 2,\n",
       " 2,\n",
       " 3,\n",
       " 3,\n",
       " 3,\n",
       " 3,\n",
       " 3,\n",
       " 3,\n",
       " 3,\n",
       " 3,\n",
       " 3,\n",
       " 3,\n",
       " 3,\n",
       " 3,\n",
       " 3,\n",
       " 3,\n",
       " 3,\n",
       " 3,\n",
       " 3,\n",
       " 3,\n",
       " 3,\n",
       " 3,\n",
       " 5,\n",
       " 5,\n",
       " 5,\n",
       " 5,\n",
       " 5,\n",
       " 5,\n",
       " 5,\n",
       " 5,\n",
       " 5,\n",
       " 5,\n",
       " 7,\n",
       " 7,\n",
       " 7,\n",
       " 7,\n",
       " 7,\n",
       " 7,\n",
       " 7,\n",
       " 7,\n",
       " 7,\n",
       " 7,\n",
       " 7,\n",
       " 7,\n",
       " 9,\n",
       " 9,\n",
       " 9,\n",
       " 9,\n",
       " 9,\n",
       " 9,\n",
       " 9,\n",
       " 9,\n",
       " 9,\n",
       " 9,\n",
       " 9,\n",
       " 9,\n",
       " 10,\n",
       " 10,\n",
       " 10,\n",
       " 10,\n",
       " 10,\n",
       " 10,\n",
       " 10,\n",
       " 10,\n",
       " 10,\n",
       " 10,\n",
       " 10,\n",
       " 10,\n",
       " 10,\n",
       " 10,\n",
       " 10]"
      ]
     },
     "execution_count": 45,
     "metadata": {},
     "output_type": "execute_result"
    }
   ],
   "source": [
    "data = []\n",
    "for k,v in zip(vals,freqs):\n",
    "    data.extend([k]*v)\n",
    "data\n",
    "\n",
    "#notemos que se usa [k] en lugar de k, ya que es una lista la que queremos repetir, en ese caso unidimensional, si usamos solo\n",
    "#k, estamos usando un numero pero extend requiere un objeto iterable, por ende al hacer [k] lo estamos haciendo una lista que si es iterable\n",
    "\n",
    "#Append: Agrega cualquier valor completo, por ejemplo, si enviamos un objeto, agrega el objeto, si enviamos una lista, \n",
    "#agrega la lista completa en lugar de sus elementos.\n",
    "\n",
    "#Extend: agrega elementos de una estructura iterable, por ejemplo, si enviamos un objeto puro, no sabe cómo agregarlo, \n",
    "#sin embargo, si enviamos ese mismo objeto dentro de una lista, escaneará la lista y agregará ese objeto y, si hay otros, el resto dentro de la lista.\n",
    "\n",
    "\n",
    "\n"
   ]
  },
  {
   "cell_type": "code",
   "execution_count": 46,
   "id": "5103b81f-9b72-4802-9bc1-770c8b46f20d",
   "metadata": {},
   "outputs": [
    {
     "data": {
      "text/plain": [
       "list"
      ]
     },
     "execution_count": 46,
     "metadata": {},
     "output_type": "execute_result"
    }
   ],
   "source": [
    "# como str\n",
    "type(data)"
   ]
  },
  {
   "cell_type": "code",
   "execution_count": 49,
   "id": "6875600c-7438-4afb-ad10-7498803854e0",
   "metadata": {},
   "outputs": [
    {
     "name": "stdout",
     "output_type": "stream",
     "text": [
      "    1 +++++++++\n",
      "    2 ++++++++++++\n",
      "    3 ++++++++++++++++++++\n",
      "    5 ++++++++++\n",
      "    7 ++++++++++++\n",
      "    9 ++++++++++++\n",
      "   10 +++++++++++++++\n"
     ]
    }
   ],
   "source": [
    "# podemos hacer su \"grafica\"\n",
    "ascii_histogram(data)"
   ]
  },
  {
   "cell_type": "markdown",
   "id": "ad8a4fef-4cfa-4841-b869-e6d7b395016b",
   "metadata": {},
   "source": [
    "# Histogramas python"
   ]
  },
  {
   "cell_type": "code",
   "execution_count": 61,
   "id": "4a5fbff3-845d-4a74-8e27-117c8488547d",
   "metadata": {},
   "outputs": [],
   "source": [
    "import numpy as np"
   ]
  },
  {
   "cell_type": "code",
   "execution_count": 62,
   "id": "fb4c4e04-4a40-40bf-9b4f-577f4012e739",
   "metadata": {},
   "outputs": [],
   "source": [
    "np.random.seed(2019)"
   ]
  },
  {
   "cell_type": "code",
   "execution_count": 63,
   "id": "601c4750-2d42-4726-a077-14ce64dace47",
   "metadata": {},
   "outputs": [],
   "source": [
    "#definir reodndeo a 3 cifras\n",
    "np.set_printoptions(precision=3)"
   ]
  },
  {
   "cell_type": "code",
   "execution_count": 77,
   "id": "6f275b1f-6060-4cbe-92e4-a47a02b53748",
   "metadata": {},
   "outputs": [
    {
     "data": {
      "text/plain": [
       "array([ 1.337,  6.358, 10.11 , 13.602, 18.232,  8.632, 12.587, -1.769,\n",
       "       14.004, 10.668])"
      ]
     },
     "execution_count": 77,
     "metadata": {},
     "output_type": "execute_result"
    }
   ],
   "source": [
    "# usaremos distribucion de laplace media en 10\n",
    "y = np.random.laplace(loc = 10, scale =3, size = 1000)\n",
    "y[:10]"
   ]
  },
  {
   "cell_type": "code",
   "execution_count": 78,
   "id": "9d8ed0fe-0101-4b2a-8432-5d0773a79341",
   "metadata": {},
   "outputs": [
    {
     "data": {
      "text/plain": [
       "(array([  1,   4,  35, 153, 543, 215,  40,   7,   1,   1]),\n",
       " array([-12.819,  -7.916,  -3.012,   1.892,   6.795,  11.699,  16.602,\n",
       "         21.506,  26.409,  31.313,  36.217]))"
      ]
     },
     "execution_count": 78,
     "metadata": {},
     "output_type": "execute_result"
    }
   ],
   "source": [
    "# veamos funcionamiento de np.histogram()\n",
    "np.histogram(y)\n"
   ]
  },
  {
   "cell_type": "code",
   "execution_count": 82,
   "id": "708f4e84-a411-49ec-a39e-5255807128d7",
   "metadata": {},
   "outputs": [],
   "source": [
    "#desempaqueños\n",
    "counts , bins_edges = np.histogram(y)\n"
   ]
  },
  {
   "cell_type": "code",
   "execution_count": 83,
   "id": "b418e35c-8d82-4bdf-9ee0-3f14fd36aa19",
   "metadata": {},
   "outputs": [
    {
     "data": {
      "text/plain": [
       "array([  1,   4,  35, 153, 543, 215,  40,   7,   1,   1])"
      ]
     },
     "execution_count": 83,
     "metadata": {},
     "output_type": "execute_result"
    }
   ],
   "source": [
    "counts"
   ]
  },
  {
   "cell_type": "code",
   "execution_count": 84,
   "id": "6ec92175-632e-4bdc-a3bd-676687891c3c",
   "metadata": {},
   "outputs": [
    {
     "data": {
      "text/plain": [
       "array([-12.819,  -7.916,  -3.012,   1.892,   6.795,  11.699,  16.602,\n",
       "        21.506,  26.409,  31.313,  36.217])"
      ]
     },
     "execution_count": 84,
     "metadata": {},
     "output_type": "execute_result"
    }
   ],
   "source": [
    "bins_edges"
   ]
  },
  {
   "cell_type": "code",
   "execution_count": 88,
   "id": "b669e624-d8dc-403b-8d72-badf2362750b",
   "metadata": {},
   "outputs": [
    {
     "data": {
      "text/plain": [
       "(10, 11)"
      ]
     },
     "execution_count": 88,
     "metadata": {},
     "output_type": "execute_result"
    }
   ],
   "source": [
    "# intentemos recrear la funcion np.histogram\n",
    "# imprimamos una dupla con info\n",
    "counts.size , bins_edges.size"
   ]
  },
  {
   "cell_type": "code",
   "execution_count": 91,
   "id": "f0dfccda-52e9-45ae-ad0d-d93c3c875730",
   "metadata": {},
   "outputs": [],
   "source": [
    "min_edge = y.min()\n",
    "max_edge = y.max()\n",
    "n_bins = 10\n",
    "\n",
    "bins_edg = np.linspace(start = min_edge, stop = max_edge, num = n_bins +1 , endpoint = True)"
   ]
  },
  {
   "cell_type": "code",
   "execution_count": 92,
   "id": "7678cdeb-c759-42a5-8989-73b8b99b9a76",
   "metadata": {},
   "outputs": [
    {
     "data": {
      "text/plain": [
       "array([-12.819,  -7.916,  -3.012,   1.892,   6.795,  11.699,  16.602,\n",
       "        21.506,  26.409,  31.313,  36.217])"
      ]
     },
     "execution_count": 92,
     "metadata": {},
     "output_type": "execute_result"
    }
   ],
   "source": [
    "bins_edg"
   ]
  },
  {
   "cell_type": "code",
   "execution_count": 94,
   "id": "2416f38d-4f89-4fac-bc56-22ef86aa9ff4",
   "metadata": {},
   "outputs": [
    {
     "data": {
      "text/plain": [
       "array([1, 3, 2, 1, 0, 0, 0, 3, 0, 0, 0, 0, 0, 0, 0, 0, 0, 0, 0, 0, 0, 0,\n",
       "       0, 0, 0, 1])"
      ]
     },
     "execution_count": 94,
     "metadata": {},
     "output_type": "execute_result"
    }
   ],
   "source": [
    "# se queria usar np.bincount() en el video, pero no sirve porque solo es para numeros enteros, regresemos al \n",
    "#anterior ejemplo con x\n",
    "xcount = np.bincount(x)\n",
    "xcount"
   ]
  },
  {
   "cell_type": "code",
   "execution_count": 95,
   "id": "86e88fb5-00e9-444c-9bd1-a6a14d8904ba",
   "metadata": {},
   "outputs": [],
   "source": [
    "hist, _ = np.histogram(x, bins = max(x)+1)"
   ]
  },
  {
   "cell_type": "code",
   "execution_count": 96,
   "id": "7bcf236a-c2ea-44f4-ad9a-a099e02200fa",
   "metadata": {},
   "outputs": [
    {
     "data": {
      "text/plain": [
       "array([1, 3, 2, 1, 0, 0, 0, 3, 0, 0, 0, 0, 0, 0, 0, 0, 0, 0, 0, 0, 0, 0,\n",
       "       0, 0, 0, 1])"
      ]
     },
     "execution_count": 96,
     "metadata": {},
     "output_type": "execute_result"
    }
   ],
   "source": [
    "hist"
   ]
  },
  {
   "cell_type": "code",
   "execution_count": 98,
   "id": "14e6b280-54df-46dd-8596-2db20acb2070",
   "metadata": {},
   "outputs": [
    {
     "data": {
      "text/plain": [
       "True"
      ]
     },
     "execution_count": 98,
     "metadata": {},
     "output_type": "execute_result"
    }
   ],
   "source": [
    "#vemos que\n",
    "np.array_equal(xcount, hist)"
   ]
  },
  {
   "cell_type": "code",
   "execution_count": 100,
   "id": "0907cc6e-2cd4-4baa-a82a-6de003180a3d",
   "metadata": {},
   "outputs": [
    {
     "data": {
      "text/plain": [
       "{0: 1, 1: 3, 2: 2, 3: 1, 7: 3, 25: 1}"
      ]
     },
     "execution_count": 100,
     "metadata": {},
     "output_type": "execute_result"
    }
   ],
   "source": [
    "# por ultimo creamos el diccionario original de otra forma\n",
    "dict(zip(np.unique(x),xcount[xcount.nonzero()]))"
   ]
  },
  {
   "cell_type": "code",
   "execution_count": 101,
   "id": "70ca5898-8c2f-4d61-9ad9-bcbe30848a78",
   "metadata": {},
   "outputs": [
    {
     "data": {
      "text/plain": [
       "(array([ 0,  1,  2,  3,  7, 25]),)"
      ]
     },
     "execution_count": 101,
     "metadata": {},
     "output_type": "execute_result"
    }
   ],
   "source": [
    "#vemos que \n",
    "xcount.nonzero()"
   ]
  },
  {
   "cell_type": "code",
   "execution_count": 102,
   "id": "61e6a5be-4e60-445f-b48e-177db6e56fa7",
   "metadata": {},
   "outputs": [
    {
     "data": {
      "text/plain": [
       "array([ 0,  1,  2,  3,  7, 25])"
      ]
     },
     "execution_count": 102,
     "metadata": {},
     "output_type": "execute_result"
    }
   ],
   "source": [
    "np.unique(x)"
   ]
  },
  {
   "cell_type": "markdown",
   "id": "048a28f6-5903-420c-ad97-bbae222be267",
   "metadata": {},
   "source": [
    "por que al hacer [xcount.nonzero()] nos devuelve las posicione en las que la entrada es distinta de cero, y luego al hacer\n",
    "xcount[xcount.nonzero()] nos devuelve los valores\n"
   ]
  }
 ],
 "metadata": {
  "kernelspec": {
   "display_name": "Python 3 (ipykernel)",
   "language": "python",
   "name": "python3"
  },
  "language_info": {
   "codemirror_mode": {
    "name": "ipython",
    "version": 3
   },
   "file_extension": ".py",
   "mimetype": "text/x-python",
   "name": "python",
   "nbconvert_exporter": "python",
   "pygments_lexer": "ipython3",
   "version": "3.11.7"
  }
 },
 "nbformat": 4,
 "nbformat_minor": 5
}
